{
  "nbformat": 4,
  "nbformat_minor": 0,
  "metadata": {
    "colab": {
      "provenance": [],
      "toc_visible": true,
      "mount_file_id": "1J048YCLBAyJfH7pTYSihjAKRABr5nWwM",
      "authorship_tag": "ABX9TyOUmuNRRfXOVYCRK8Z8wK+C",
      "include_colab_link": true
    },
    "kernelspec": {
      "name": "python3",
      "display_name": "Python 3"
    },
    "language_info": {
      "name": "python"
    }
  },
  "cells": [
    {
      "cell_type": "markdown",
      "metadata": {
        "id": "view-in-github",
        "colab_type": "text"
      },
      "source": [
        "<a href=\"https://colab.research.google.com/github/siwookim1114/Data-Science-Projects/blob/main/%ED%83%80%EC%9D%B4%ED%83%80%EB%8B%89_%EB%B6%84%EC%84%9D.ipynb\" target=\"_parent\"><img src=\"https://colab.research.google.com/assets/colab-badge.svg\" alt=\"Open In Colab\"/></a>"
      ]
    },
    {
      "cell_type": "markdown",
      "source": [
        "# 타이타닉 데이터 분석"
      ],
      "metadata": {
        "id": "6uB8g3uhSb_1"
      }
    },
    {
      "cell_type": "markdown",
      "source": [
        "## 데이터 불러오기"
      ],
      "metadata": {
        "id": "Mpam8Qx5iezf"
      }
    },
    {
      "cell_type": "code",
      "source": [
        "### 필요한 라이브러리 임폴트\n",
        "import pandas as pd\n",
        "import seaborn as sns\n"
      ],
      "metadata": {
        "id": "sIulafvzihHU"
      },
      "execution_count": null,
      "outputs": []
    },
    {
      "cell_type": "code",
      "source": [
        "# 파일 경로 설정\n",
        "train_path = \"/content/drive/MyDrive/ML AI/Mega/데이터분석/데이터/titanic_train.csv\"\n",
        "test_path = \"/content/drive/MyDrive/ML AI/Mega/데이터분석/데이터/titanic_test.csv\"\n",
        "\n",
        "# pd.read_csv() 사용\n",
        "df_train = pd.read_csv(train_path)\n",
        "df_test = pd.read_csv(test_path)\n",
        "\n",
        "# 결과 확인하기\n",
        "print(df_train)\n",
        "print(\"-\" * 80)\n",
        "print(df_test)\n"
      ],
      "metadata": {
        "colab": {
          "base_uri": "https://localhost:8080/"
        },
        "id": "uZjILiQXiv4t",
        "outputId": "e3978733-6d3a-4ac4-fa2c-13d9b502c901"
      },
      "execution_count": null,
      "outputs": [
        {
          "output_type": "stream",
          "name": "stdout",
          "text": [
            "     PassengerId  Survived  Pclass  \\\n",
            "0              1         0       3   \n",
            "1              2         1       1   \n",
            "2              3         1       3   \n",
            "3              4         1       1   \n",
            "4              5         0       3   \n",
            "..           ...       ...     ...   \n",
            "886          887         0       2   \n",
            "887          888         1       1   \n",
            "888          889         0       3   \n",
            "889          890         1       1   \n",
            "890          891         0       3   \n",
            "\n",
            "                                                  Name  Gender   Age  SibSp  \\\n",
            "0                              Braund, Mr. Owen Harris    male  22.0      1   \n",
            "1    Cumings, Mrs. John Bradley (Florence Briggs Th...  female  38.0      1   \n",
            "2                               Heikkinen, Miss. Laina  female  26.0      0   \n",
            "3         Futrelle, Mrs. Jacques Heath (Lily May Peel)  female  35.0      1   \n",
            "4                             Allen, Mr. William Henry    male  35.0      0   \n",
            "..                                                 ...     ...   ...    ...   \n",
            "886                              Montvila, Rev. Juozas    male  27.0      0   \n",
            "887                       Graham, Miss. Margaret Edith  female  19.0      0   \n",
            "888           Johnston, Miss. Catherine Helen \"Carrie\"  female   NaN      1   \n",
            "889                              Behr, Mr. Karl Howell    male  26.0      0   \n",
            "890                                Dooley, Mr. Patrick    male  32.0      0   \n",
            "\n",
            "     Parch            Ticket     Fare Cabin Embarked  \n",
            "0        0         A/5 21171   7.2500   NaN        S  \n",
            "1        0          PC 17599  71.2833   C85        C  \n",
            "2        0  STON/O2. 3101282   7.9250   NaN        S  \n",
            "3        0            113803  53.1000  C123        S  \n",
            "4        0            373450   8.0500   NaN        S  \n",
            "..     ...               ...      ...   ...      ...  \n",
            "886      0            211536  13.0000   NaN        S  \n",
            "887      0            112053  30.0000   B42        S  \n",
            "888      2        W./C. 6607  23.4500   NaN        S  \n",
            "889      0            111369  30.0000  C148        C  \n",
            "890      0            370376   7.7500   NaN        Q  \n",
            "\n",
            "[891 rows x 12 columns]\n",
            "--------------------------------------------------------------------------------\n",
            "     PassengerId  Survived  Pclass  \\\n",
            "0            892         0       3   \n",
            "1            893         1       3   \n",
            "2            894         0       2   \n",
            "3            895         0       3   \n",
            "4            896         1       3   \n",
            "..           ...       ...     ...   \n",
            "413         1305         0       3   \n",
            "414         1306         1       1   \n",
            "415         1307         0       3   \n",
            "416         1308         0       3   \n",
            "417         1309         0       3   \n",
            "\n",
            "                                             Name  Gender   Age  SibSp  Parch  \\\n",
            "0                                Kelly, Mr. James    male  34.5      0      0   \n",
            "1                Wilkes, Mrs. James (Ellen Needs)  female  47.0      1      0   \n",
            "2                       Myles, Mr. Thomas Francis    male  62.0      0      0   \n",
            "3                                Wirz, Mr. Albert    male  27.0      0      0   \n",
            "4    Hirvonen, Mrs. Alexander (Helga E Lindqvist)  female  22.0      1      1   \n",
            "..                                            ...     ...   ...    ...    ...   \n",
            "413                            Spector, Mr. Woolf    male   NaN      0      0   \n",
            "414                  Oliva y Ocana, Dona. Fermina  female  39.0      0      0   \n",
            "415                  Saether, Mr. Simon Sivertsen    male  38.5      0      0   \n",
            "416                           Ware, Mr. Frederick    male   NaN      0      0   \n",
            "417                      Peter, Master. Michael J    male   NaN      1      1   \n",
            "\n",
            "                 Ticket      Fare Cabin Embarked  \n",
            "0                330911    7.8292   NaN        Q  \n",
            "1                363272    7.0000   NaN        S  \n",
            "2                240276    9.6875   NaN        Q  \n",
            "3                315154    8.6625   NaN        S  \n",
            "4               3101298   12.2875   NaN        S  \n",
            "..                  ...       ...   ...      ...  \n",
            "413           A.5. 3236    8.0500   NaN        S  \n",
            "414            PC 17758  108.9000  C105        C  \n",
            "415  SOTON/O.Q. 3101262    7.2500   NaN        S  \n",
            "416              359309    8.0500   NaN        S  \n",
            "417                2668   22.3583   NaN        C  \n",
            "\n",
            "[418 rows x 12 columns]\n"
          ]
        }
      ]
    },
    {
      "cell_type": "code",
      "source": [
        "# df.info() --> 행과 컬럼에 대한 요약 정보를 출력하는 함수\n",
        "df_train.info()\n",
        "print(\"-\" * 80)\n",
        "df_test.info()\n",
        "\n",
        "# 지금은 똑같은 파일이 두개로(train, test) 분리되어있음 => 병합해서 하나로 만들어도 됨"
      ],
      "metadata": {
        "colab": {
          "base_uri": "https://localhost:8080/"
        },
        "id": "RSeDvG0kkB99",
        "outputId": "e57b37a3-8746-4995-ef3f-3117bfb17fe0"
      },
      "execution_count": null,
      "outputs": [
        {
          "output_type": "stream",
          "name": "stdout",
          "text": [
            "<class 'pandas.core.frame.DataFrame'>\n",
            "RangeIndex: 891 entries, 0 to 890\n",
            "Data columns (total 12 columns):\n",
            " #   Column       Non-Null Count  Dtype  \n",
            "---  ------       --------------  -----  \n",
            " 0   PassengerId  891 non-null    int64  \n",
            " 1   Survived     891 non-null    int64  \n",
            " 2   Pclass       891 non-null    int64  \n",
            " 3   Name         891 non-null    object \n",
            " 4   Gender       891 non-null    object \n",
            " 5   Age          714 non-null    float64\n",
            " 6   SibSp        891 non-null    int64  \n",
            " 7   Parch        891 non-null    int64  \n",
            " 8   Ticket       891 non-null    object \n",
            " 9   Fare         891 non-null    float64\n",
            " 10  Cabin        204 non-null    object \n",
            " 11  Embarked     889 non-null    object \n",
            "dtypes: float64(2), int64(5), object(5)\n",
            "memory usage: 83.7+ KB\n",
            "--------------------------------------------------------------------------------\n",
            "<class 'pandas.core.frame.DataFrame'>\n",
            "RangeIndex: 418 entries, 0 to 417\n",
            "Data columns (total 12 columns):\n",
            " #   Column       Non-Null Count  Dtype  \n",
            "---  ------       --------------  -----  \n",
            " 0   PassengerId  418 non-null    int64  \n",
            " 1   Survived     418 non-null    int64  \n",
            " 2   Pclass       418 non-null    int64  \n",
            " 3   Name         418 non-null    object \n",
            " 4   Gender       418 non-null    object \n",
            " 5   Age          332 non-null    float64\n",
            " 6   SibSp        418 non-null    int64  \n",
            " 7   Parch        418 non-null    int64  \n",
            " 8   Ticket       418 non-null    object \n",
            " 9   Fare         417 non-null    float64\n",
            " 10  Cabin        91 non-null     object \n",
            " 11  Embarked     418 non-null    object \n",
            "dtypes: float64(2), int64(5), object(5)\n",
            "memory usage: 39.3+ KB\n"
          ]
        }
      ]
    },
    {
      "cell_type": "code",
      "source": [
        "### 데이터 병합하기\n",
        "df = pd.concat([df_train, df_test], ignore_index = True)   ## 다 컬럼들이 공통된 컬럼이니깐 y축 방향으로 (axis = 0 기본 디폴트) 로 병합\n",
        "print(df)\n",
        "print(\"-\" * 80)\n",
        "df.info()"
      ],
      "metadata": {
        "colab": {
          "base_uri": "https://localhost:8080/"
        },
        "id": "r8xtsTRRmEKN",
        "outputId": "fe488dc6-e85d-498b-cc7d-5cadcaf14d6d"
      },
      "execution_count": null,
      "outputs": [
        {
          "output_type": "stream",
          "name": "stdout",
          "text": [
            "      PassengerId  Survived  Pclass  \\\n",
            "0               1         0       3   \n",
            "1               2         1       1   \n",
            "2               3         1       3   \n",
            "3               4         1       1   \n",
            "4               5         0       3   \n",
            "...           ...       ...     ...   \n",
            "1304         1305         0       3   \n",
            "1305         1306         1       1   \n",
            "1306         1307         0       3   \n",
            "1307         1308         0       3   \n",
            "1308         1309         0       3   \n",
            "\n",
            "                                                   Name  Gender   Age  SibSp  \\\n",
            "0                               Braund, Mr. Owen Harris    male  22.0      1   \n",
            "1     Cumings, Mrs. John Bradley (Florence Briggs Th...  female  38.0      1   \n",
            "2                                Heikkinen, Miss. Laina  female  26.0      0   \n",
            "3          Futrelle, Mrs. Jacques Heath (Lily May Peel)  female  35.0      1   \n",
            "4                              Allen, Mr. William Henry    male  35.0      0   \n",
            "...                                                 ...     ...   ...    ...   \n",
            "1304                                 Spector, Mr. Woolf    male   NaN      0   \n",
            "1305                       Oliva y Ocana, Dona. Fermina  female  39.0      0   \n",
            "1306                       Saether, Mr. Simon Sivertsen    male  38.5      0   \n",
            "1307                                Ware, Mr. Frederick    male   NaN      0   \n",
            "1308                           Peter, Master. Michael J    male   NaN      1   \n",
            "\n",
            "      Parch              Ticket      Fare Cabin Embarked  \n",
            "0         0           A/5 21171    7.2500   NaN        S  \n",
            "1         0            PC 17599   71.2833   C85        C  \n",
            "2         0    STON/O2. 3101282    7.9250   NaN        S  \n",
            "3         0              113803   53.1000  C123        S  \n",
            "4         0              373450    8.0500   NaN        S  \n",
            "...     ...                 ...       ...   ...      ...  \n",
            "1304      0           A.5. 3236    8.0500   NaN        S  \n",
            "1305      0            PC 17758  108.9000  C105        C  \n",
            "1306      0  SOTON/O.Q. 3101262    7.2500   NaN        S  \n",
            "1307      0              359309    8.0500   NaN        S  \n",
            "1308      1                2668   22.3583   NaN        C  \n",
            "\n",
            "[1309 rows x 12 columns]\n",
            "--------------------------------------------------------------------------------\n",
            "<class 'pandas.core.frame.DataFrame'>\n",
            "RangeIndex: 1309 entries, 0 to 1308\n",
            "Data columns (total 12 columns):\n",
            " #   Column       Non-Null Count  Dtype  \n",
            "---  ------       --------------  -----  \n",
            " 0   PassengerId  1309 non-null   int64  \n",
            " 1   Survived     1309 non-null   int64  \n",
            " 2   Pclass       1309 non-null   int64  \n",
            " 3   Name         1309 non-null   object \n",
            " 4   Gender       1309 non-null   object \n",
            " 5   Age          1046 non-null   float64\n",
            " 6   SibSp        1309 non-null   int64  \n",
            " 7   Parch        1309 non-null   int64  \n",
            " 8   Ticket       1309 non-null   object \n",
            " 9   Fare         1308 non-null   float64\n",
            " 10  Cabin        295 non-null    object \n",
            " 11  Embarked     1307 non-null   object \n",
            "dtypes: float64(2), int64(5), object(5)\n",
            "memory usage: 122.8+ KB\n"
          ]
        }
      ]
    },
    {
      "cell_type": "markdown",
      "source": [
        "## 데이터 전처리"
      ],
      "metadata": {
        "id": "EwRToZXymjJ-"
      }
    },
    {
      "cell_type": "markdown",
      "source": [
        "### 누락 데이터 처리"
      ],
      "metadata": {
        "id": "YlYWF7FtmqJO"
      }
    },
    {
      "cell_type": "code",
      "source": [
        "### 각 컬럼별 누락 데이터의 수 확인\n",
        "\n",
        "# isnull().sum() 사용\n",
        "num_nulls = df.isnull().sum()\n",
        "print(f\"각 컬럼별 누락 데이터의 수 : \\n{num_nulls}\")"
      ],
      "metadata": {
        "colab": {
          "base_uri": "https://localhost:8080/"
        },
        "id": "MD9VC5kImrVu",
        "outputId": "9fb25913-95bd-471e-eca1-256b31538cfc"
      },
      "execution_count": null,
      "outputs": [
        {
          "output_type": "stream",
          "name": "stdout",
          "text": [
            "각 컬럼별 누락 데이터의 수 : \n",
            "PassengerId       0\n",
            "Survived          0\n",
            "Pclass            0\n",
            "Name              0\n",
            "Gender            0\n",
            "Age             263\n",
            "SibSp             0\n",
            "Parch             0\n",
            "Ticket            0\n",
            "Fare              1\n",
            "Cabin          1014\n",
            "Embarked          2\n",
            "dtype: int64\n"
          ]
        }
      ]
    },
    {
      "cell_type": "markdown",
      "source": [
        "#### cabin 컬럼"
      ],
      "metadata": {
        "id": "IaRDYE0xtlxP"
      }
    },
    {
      "cell_type": "code",
      "source": [
        "### Cabin 컬럼은 제거 (너무 누락된 데이터가 많아서 써먹을 방법이 없음) --> df.drop() 을 통해서 원하는 컬럼 삭제\n",
        "cleaned_df = df.drop(columns = [\"Cabin\"])\n",
        "print(f\"Cabin 컬럼을 제거한 결과 : \\n{cleaned_df}\")"
      ],
      "metadata": {
        "colab": {
          "base_uri": "https://localhost:8080/"
        },
        "id": "sxR4oGm2tn9e",
        "outputId": "c1598738-4ea1-4655-ecf6-94a2e1f8d07f"
      },
      "execution_count": null,
      "outputs": [
        {
          "output_type": "stream",
          "name": "stdout",
          "text": [
            "Cabin 컬럼을 제거한 결과 : \n",
            "      PassengerId  Survived  Pclass  \\\n",
            "0               1         0       3   \n",
            "1               2         1       1   \n",
            "2               3         1       3   \n",
            "3               4         1       1   \n",
            "4               5         0       3   \n",
            "...           ...       ...     ...   \n",
            "1304         1305         0       3   \n",
            "1305         1306         1       1   \n",
            "1306         1307         0       3   \n",
            "1307         1308         0       3   \n",
            "1308         1309         0       3   \n",
            "\n",
            "                                                   Name  Gender   Age  SibSp  \\\n",
            "0                               Braund, Mr. Owen Harris    male  22.0      1   \n",
            "1     Cumings, Mrs. John Bradley (Florence Briggs Th...  female  38.0      1   \n",
            "2                                Heikkinen, Miss. Laina  female  26.0      0   \n",
            "3          Futrelle, Mrs. Jacques Heath (Lily May Peel)  female  35.0      1   \n",
            "4                              Allen, Mr. William Henry    male  35.0      0   \n",
            "...                                                 ...     ...   ...    ...   \n",
            "1304                                 Spector, Mr. Woolf    male   NaN      0   \n",
            "1305                       Oliva y Ocana, Dona. Fermina  female  39.0      0   \n",
            "1306                       Saether, Mr. Simon Sivertsen    male  38.5      0   \n",
            "1307                                Ware, Mr. Frederick    male   NaN      0   \n",
            "1308                           Peter, Master. Michael J    male   NaN      1   \n",
            "\n",
            "      Parch              Ticket      Fare Embarked  \n",
            "0         0           A/5 21171    7.2500        S  \n",
            "1         0            PC 17599   71.2833        C  \n",
            "2         0    STON/O2. 3101282    7.9250        S  \n",
            "3         0              113803   53.1000        S  \n",
            "4         0              373450    8.0500        S  \n",
            "...     ...                 ...       ...      ...  \n",
            "1304      0           A.5. 3236    8.0500        S  \n",
            "1305      0            PC 17758  108.9000        C  \n",
            "1306      0  SOTON/O.Q. 3101262    7.2500        S  \n",
            "1307      0              359309    8.0500        S  \n",
            "1308      1                2668   22.3583        C  \n",
            "\n",
            "[1309 rows x 11 columns]\n"
          ]
        }
      ]
    },
    {
      "cell_type": "markdown",
      "source": [
        "#### Age 컬럼"
      ],
      "metadata": {
        "id": "3en4JXQYu6QW"
      }
    },
    {
      "cell_type": "code",
      "source": [
        "### Age 컬럼 값의 분포 --> 요약 통계량 추출\n",
        "print(cleaned_df.loc[:, \"Age\"].describe())"
      ],
      "metadata": {
        "colab": {
          "base_uri": "https://localhost:8080/"
        },
        "id": "3O9SmuD_u7JW",
        "outputId": "45afbd8f-35dc-4b82-c5a9-803728b0520c"
      },
      "execution_count": null,
      "outputs": [
        {
          "output_type": "stream",
          "name": "stdout",
          "text": [
            "count    1046.000000\n",
            "mean       29.881138\n",
            "std        14.413493\n",
            "min         0.170000\n",
            "25%        21.000000\n",
            "50%        28.000000\n",
            "75%        39.000000\n",
            "max        80.000000\n",
            "Name: Age, dtype: float64\n"
          ]
        }
      ]
    },
    {
      "cell_type": "code",
      "source": [
        "### Age 컬럼 --> 나이별 빈도수 --> 최빈값 (mode) 확인\n",
        "counts = cleaned_df.loc[:, \"Age\"].value_counts()   ### value_counts()로도 mode 확인가능\n",
        "print(f\"Age 컬럼의 나이별 승객 수 : \\n{counts}\")\n",
        "print(\"-\" * 80)\n",
        "print(f\"Age 컬럼의 나이별 승객의 수 top10 : \\n{counts.iloc[:10]}\")\n",
        "print(\"-\" * 80)\n",
        "print(f\"Age 컬럼의 나이별 승객의 수 top1 : \\n{counts.index[0]}\")"
      ],
      "metadata": {
        "colab": {
          "base_uri": "https://localhost:8080/"
        },
        "id": "QoSFXhcOvABl",
        "outputId": "d71f7786-b26f-4aba-cb24-fe10c17c21a1"
      },
      "execution_count": null,
      "outputs": [
        {
          "output_type": "stream",
          "name": "stdout",
          "text": [
            "Age 컬럼의 나이별 승객 수 : \n",
            "Age\n",
            "24.0    47\n",
            "22.0    43\n",
            "21.0    41\n",
            "30.0    40\n",
            "18.0    39\n",
            "        ..\n",
            "23.5     1\n",
            "70.5     1\n",
            "55.5     1\n",
            "20.5     1\n",
            "38.5     1\n",
            "Name: count, Length: 98, dtype: int64\n",
            "--------------------------------------------------------------------------------\n",
            "Age 컬럼의 나이별 승객의 수 top10 : \n",
            "Age\n",
            "24.0    47\n",
            "22.0    43\n",
            "21.0    41\n",
            "30.0    40\n",
            "18.0    39\n",
            "25.0    34\n",
            "28.0    32\n",
            "36.0    31\n",
            "29.0    30\n",
            "27.0    30\n",
            "Name: count, dtype: int64\n",
            "--------------------------------------------------------------------------------\n",
            "Age 컬럼의 나이별 승객의 수 top1 : \n",
            "24.0\n"
          ]
        }
      ]
    },
    {
      "cell_type": "code",
      "source": [
        "### Age 컬럼 --> 누락 데이터 --> 최빈값으로 대체\n",
        "cleaned_df.loc[:, \"Age\"].fillna(counts.index[0], inplace = True)\n",
        "\n",
        "# 최빈 값으로 대체 후 누락 데이터 수 확인\n",
        "num_nulls = cleaned_df.loc[: , \"Age\"].isnull().sum()\n",
        "print(f\"Age 컬럼의 누락 데이터의 수 : {num_nulls}\")"
      ],
      "metadata": {
        "colab": {
          "base_uri": "https://localhost:8080/"
        },
        "id": "p4kBZC14wWDF",
        "outputId": "9edb0548-02e1-4aad-cdd7-944a5516ed37"
      },
      "execution_count": null,
      "outputs": [
        {
          "output_type": "stream",
          "name": "stdout",
          "text": [
            "Age 컬럼의 누락 데이터의 수 : 0\n"
          ]
        }
      ]
    },
    {
      "cell_type": "markdown",
      "source": [
        "##### Binning"
      ],
      "metadata": {
        "id": "Ty_3PiiFtHo9"
      }
    },
    {
      "cell_type": "code",
      "source": [
        "### Age 컬럼 --> 8단계 구간화\n",
        "\n",
        "# 매개 변수에 전달할 값 (arguments)\n",
        "x = cleaned_df.loc[:, \"Age\"]\n",
        "bins = 8    ## 총 8등분으로 구간화\n",
        "labels = [0, 1, 2, 3, 4, 5, 6, 7]     ## 이런 숫자 구간으로 나이를 대신함\n",
        "\n",
        "# pd.cut() 함수 사용\n",
        "cleaned_df.loc[:, \"Age\"] = pd.cut(x = x, bins = bins, labels = labels)   ## 실제 나이를 구간화 해서 구간으로 채운다 (실제 나이는 신뢰성이 떨어져서 버림)\n",
        "\n",
        "# 결과 확인하기\n",
        "print(f\"데이터프레임 확인 : \\n{cleaned_df}\")"
      ],
      "metadata": {
        "colab": {
          "base_uri": "https://localhost:8080/"
        },
        "id": "tjeRbFmptIbb",
        "outputId": "77de70b2-824c-46e3-c22f-090813d307c4"
      },
      "execution_count": null,
      "outputs": [
        {
          "output_type": "stream",
          "name": "stdout",
          "text": [
            "데이터프레임 확인 : \n",
            "      PassengerId  Survived  Pclass  \\\n",
            "0               1         0       3   \n",
            "1               2         1       1   \n",
            "2               3         1       3   \n",
            "3               4         1       1   \n",
            "4               5         0       3   \n",
            "...           ...       ...     ...   \n",
            "1304         1305         0       3   \n",
            "1305         1306         1       1   \n",
            "1306         1307         0       3   \n",
            "1307         1308         0       3   \n",
            "1308         1309         0       3   \n",
            "\n",
            "                                                   Name  Gender Age  SibSp  \\\n",
            "0                               Braund, Mr. Owen Harris    male   2      1   \n",
            "1     Cumings, Mrs. John Bradley (Florence Briggs Th...  female   3      1   \n",
            "2                                Heikkinen, Miss. Laina  female   2      0   \n",
            "3          Futrelle, Mrs. Jacques Heath (Lily May Peel)  female   3      1   \n",
            "4                              Allen, Mr. William Henry    male   3      0   \n",
            "...                                                 ...     ...  ..    ...   \n",
            "1304                                 Spector, Mr. Woolf    male   2      0   \n",
            "1305                       Oliva y Ocana, Dona. Fermina  female   3      0   \n",
            "1306                       Saether, Mr. Simon Sivertsen    male   3      0   \n",
            "1307                                Ware, Mr. Frederick    male   2      0   \n",
            "1308                           Peter, Master. Michael J    male   2      1   \n",
            "\n",
            "      Parch              Ticket      Fare Embarked  \n",
            "0         0           A/5 21171    7.2500        S  \n",
            "1         0            PC 17599   71.2833        C  \n",
            "2         0    STON/O2. 3101282    7.9250        S  \n",
            "3         0              113803   53.1000        S  \n",
            "4         0              373450    8.0500        S  \n",
            "...     ...                 ...       ...      ...  \n",
            "1304      0           A.5. 3236    8.0500        S  \n",
            "1305      0            PC 17758  108.9000        C  \n",
            "1306      0  SOTON/O.Q. 3101262    7.2500        S  \n",
            "1307      0              359309    8.0500        S  \n",
            "1308      1                2668   22.3583        C  \n",
            "\n",
            "[1309 rows x 11 columns]\n"
          ]
        }
      ]
    },
    {
      "cell_type": "markdown",
      "source": [
        "#### Embarked 컬럼"
      ],
      "metadata": {
        "id": "2VXzDYFcxzfe"
      }
    },
    {
      "cell_type": "code",
      "source": [
        "### 승선 항구의 항구별 빈도수 / 비율 추출\n",
        "\n",
        "# 빈도수 추출\n",
        "counts = cleaned_df.loc[:, \"Embarked\"].value_counts()\n",
        "print(f\"승선 항구의 항구별 빈도수 : \\n{counts}\")\n",
        "\n",
        "print(\"-\" * 80)\n",
        "\n",
        "# 비율 추출\n",
        "ratio = cleaned_df.loc[:, \"Embarked\"].value_counts(normalize = True)   ## normalize = True 하면 비율로 표시\n",
        "print(f\"승선 항구별 비율 : \\n{ratio}\")"
      ],
      "metadata": {
        "colab": {
          "base_uri": "https://localhost:8080/"
        },
        "id": "4R016OeLx4bA",
        "outputId": "1a48958e-863e-4c9e-a023-f20900d9da94"
      },
      "execution_count": null,
      "outputs": [
        {
          "output_type": "stream",
          "name": "stdout",
          "text": [
            "승선 항구의 항구별 빈도수 : \n",
            "Embarked\n",
            "S    914\n",
            "C    270\n",
            "Q    123\n",
            "Name: count, dtype: int64\n",
            "--------------------------------------------------------------------------------\n",
            "승선 항구별 비율 : \n",
            "Embarked\n",
            "S    0.699311\n",
            "C    0.206580\n",
            "Q    0.094109\n",
            "Name: proportion, dtype: float64\n"
          ]
        }
      ]
    },
    {
      "cell_type": "code",
      "source": [
        "### 최빈 값으로 승선 항구에 대한 누락 데이터 처리\n",
        "#(누락 데이터가 2개 밖에 안되서 가장 비율이 높은 S로 채워도 전체적인 통계에는 영향 X)\n",
        "cleaned_df.loc[:, \"Embarked\"].fillna(\"S\", inplace = True)  ## inplace = True 로 그대로 똑같은 데이터프레임에 덮어 씌우기\n",
        "\n",
        "# 결과 확인하기 --> 누락 데이터의 수 확인\n",
        "num_nulls = cleaned_df.loc[:, \"Embarked\"].isnull().sum()\n",
        "print(f\"Embarked 컬럼의 누락 데이터의 수 : \\n{num_nulls}\")\n",
        "\n",
        "## 결과가 0이 나오므로 누락 데이터는 채워짐\n",
        "## 통계적으로 근거가 가장 확실하게 있는 값으로 NA 값을 채운다"
      ],
      "metadata": {
        "colab": {
          "base_uri": "https://localhost:8080/"
        },
        "id": "pBpyYVaOyVgT",
        "outputId": "ed7dfad0-7d8c-4909-d660-b7994d56dcd7"
      },
      "execution_count": null,
      "outputs": [
        {
          "output_type": "stream",
          "name": "stdout",
          "text": [
            "Embarked 컬럼의 누락 데이터의 수 : \n",
            "0\n"
          ]
        }
      ]
    },
    {
      "cell_type": "markdown",
      "source": [
        "#### Fare 컬럼"
      ],
      "metadata": {
        "id": "9mfU1YgX1PwX"
      }
    },
    {
      "cell_type": "code",
      "source": [
        "### Fare 컬럼의 항목별 빈도수 확인\n",
        "counts = cleaned_df.loc[:, \"Fare\"].value_counts()  ## 누락 데이터의 수 : 1 명 => 1308 명 중에서\n",
        "print(f\"요금의 금액별 빈도수 : \\n{counts}\")"
      ],
      "metadata": {
        "colab": {
          "base_uri": "https://localhost:8080/"
        },
        "id": "MKalhTSb1Rse",
        "outputId": "afd0c3ef-c595-4070-c129-9350b3794e57"
      },
      "execution_count": null,
      "outputs": [
        {
          "output_type": "stream",
          "name": "stdout",
          "text": [
            "요금의 금액별 빈도수 : \n",
            "Fare\n",
            "8.0500     60\n",
            "13.0000    59\n",
            "7.7500     55\n",
            "26.0000    50\n",
            "7.8958     49\n",
            "           ..\n",
            "7.7417      1\n",
            "8.1583      1\n",
            "8.4583      1\n",
            "7.8000      1\n",
            "7.7208      1\n",
            "Name: count, Length: 281, dtype: int64\n"
          ]
        }
      ]
    },
    {
      "cell_type": "code",
      "source": [
        "### Fare 컬럼에서 누락 데이터 확인 --> 1명 who?\n",
        "\n",
        "# Fare 컬럼 --> 누락 여부 --> isnull() --> 누락인 행 True / 누락이 아닌 행 False (isnull()은 비교 연산자처럼 쓸 수 있음)\n",
        "condition = cleaned_df.loc[:, \"Fare\"].isnull()    ## Fare 컬럼에서 누락인지 아닌지, True인 행만 찾음\n",
        "print(f\"Fare 컬럼에서 누락 여부를 확인한 결과 : \\n{condition}\")\n",
        "\n",
        "print(\"-\" * 80)\n",
        "\n",
        "# 불리언 인덱싱 --> loc[row, :]\n",
        "data_null = cleaned_df.loc[condition, :]      ## 그 누락된 행의 다른 콜롬 정보 다 추출\n",
        "print(f\"누락 데이터가 있는 승객의 이름 : \\n{data_null}\")"
      ],
      "metadata": {
        "colab": {
          "base_uri": "https://localhost:8080/"
        },
        "id": "PGh59E5X14nT",
        "outputId": "dc9cfea9-2160-47e2-988b-bff155e9cdb4"
      },
      "execution_count": null,
      "outputs": [
        {
          "output_type": "stream",
          "name": "stdout",
          "text": [
            "Fare 컬럼에서 누락 여부를 확인한 결과 : \n",
            "0       False\n",
            "1       False\n",
            "2       False\n",
            "3       False\n",
            "4       False\n",
            "        ...  \n",
            "1304    False\n",
            "1305    False\n",
            "1306    False\n",
            "1307    False\n",
            "1308    False\n",
            "Name: Fare, Length: 1309, dtype: bool\n",
            "--------------------------------------------------------------------------------\n",
            "누락 데이터가 있는 승객의 이름 : \n",
            "      PassengerId  Survived  Pclass                Name Gender Age  SibSp  \\\n",
            "1043         1044         0       3  Storey, Mr. Thomas   male   6      0   \n",
            "\n",
            "      Parch Ticket  Fare Embarked  \n",
            "1043      0   3701   NaN        S  \n"
          ]
        }
      ]
    },
    {
      "cell_type": "code",
      "source": [
        "### 3등석 & 성별 \"Male\" & 나이 구간 6 (60 - 70) & 승선 항구 S & SipSp 0 & Parch 0   => 이런 조건을 만족하는 승객의 요금 확인\n",
        "## Fare이 NA 값인 승객의 다른 정보들이 확인이 되니 그 정보들이랑 최대한 겹치는 다른 승객의 Fare 값을 확인하면 됨\n",
        "\n",
        "# 조건식 생성\n",
        "condition1 = (cleaned_df.loc[:, \"Pclass\"] == 3)\n",
        "condition2 = (cleaned_df.loc[:, \"Gender\"] == \"male\")\n",
        "condition3 = (cleaned_df.loc[:, \"Age\"] == 6)\n",
        "condition4 = (cleaned_df.loc[:, \"Embarked\"] == \"S\")\n",
        "condition5 = (cleaned_df.loc[:, \"SibSp\"] == 0)\n",
        "condition6 = (cleaned_df.loc[:, \"Parch\"] == 0)\n",
        "\n",
        "# 위에 조건들을 모두 교집합 한 최종 condition\n",
        "condition = condition1 & condition2 & condition3 & condition4 & condition5 & condition6\n",
        "\n",
        "# 6가지 조건을 만족하는 행 에서 요금 컬럼 추출 (요금만 궁금함) ==> Fare 추출\n",
        "fare = cleaned_df.loc[condition, \"Fare\"]\n",
        "print(f\"6가지 조건을 모두 만족하는 승객의 요금 : \\n{fare}\")\n",
        "\n",
        "## 6가지 조건을 모두 만족하는 승객을 찾았을때 2명밖에 안됨 (Na 값 승객 한명이랑 다른 승객 한명)"
      ],
      "metadata": {
        "colab": {
          "base_uri": "https://localhost:8080/"
        },
        "id": "A_YXpFTk3Hl7",
        "outputId": "813e42a0-9f19-481e-8de2-517dffc1cbac"
      },
      "execution_count": null,
      "outputs": [
        {
          "output_type": "stream",
          "name": "stdout",
          "text": [
            "6가지 조건을 모두 만족하는 승객의 요금 : \n",
            "326     6.2375\n",
            "1043       NaN\n",
            "Name: Fare, dtype: float64\n"
          ]
        }
      ]
    },
    {
      "cell_type": "code",
      "source": [
        "### 누락 데이터 대체\n",
        "price = fare.iloc[0] ## 아까 두 승객중 첫번째 iloc[0] 값으로 채우면됨\n",
        "cleaned_df.loc[:, \"Fare\"].fillna(price, inplace = True)\n",
        "\n",
        "# 결과 확인하기\n",
        "print(cleaned_df.iloc[data_null.index, :])   ## data_null.index 로 그 Na값의 승객 행의 인덱스를 불러옴"
      ],
      "metadata": {
        "colab": {
          "base_uri": "https://localhost:8080/"
        },
        "id": "H95t-nx08aiJ",
        "outputId": "1aa2e950-523f-4f79-f845-ea86d1dc478a"
      },
      "execution_count": null,
      "outputs": [
        {
          "output_type": "stream",
          "name": "stdout",
          "text": [
            "      PassengerId  Survived  Pclass                Name Gender Age  SibSp  \\\n",
            "1043         1044         0       3  Storey, Mr. Thomas   male   6      0   \n",
            "\n",
            "      Parch Ticket    Fare Embarked  \n",
            "1043      0   3701  6.2375        S  \n"
          ]
        }
      ]
    },
    {
      "cell_type": "markdown",
      "source": [
        "### Feature Engineering"
      ],
      "metadata": {
        "id": "HZBf-hSAAEBU"
      }
    },
    {
      "cell_type": "markdown",
      "source": [
        "#### 가족 인원수 컬럼 추가"
      ],
      "metadata": {
        "id": "RrYYgFaWDsTI"
      }
    },
    {
      "cell_type": "code",
      "source": [
        "### SipSp 컬럼 값과 Parch 컬럼 값 --> 덧셈 --> 가족 인원수 컬럼 생성 --> 파생 변수 (기존 컬럼을 가지고 가공해서 새로운 컬럼으로 만듬 ==> 모델의 성능이 올라갈수도 있음)\n",
        "## 파생 변수를 잘만드면 데이터의 가치를 높일 수 있음\n",
        "\n",
        "# SibSp 컬럼 값과 Parch 컬럼 값 --> 덧셈\n",
        "sum = cleaned_df.loc[:, \"SibSp\"] + cleaned_df.loc[:, \"Parch\"]   ## 두 컬럼이 똑같이 행 숫자를 가지고 있어서 그냥 같이 더해주면 됨\n",
        "print(f\"SibSp 컬럼과 Parch 컬럼의 덧셈 결과 : \\n{sum}\")\n",
        "\n",
        "print(\"-\" * 80)\n",
        "\n",
        "# 가족 인원수 컬럼 --> 값 입력\n",
        "# 새로 컬럼 이름 하나 만들어서 지정 후 거기에 데이터 값 넣어주면 새로 만들어짐 (마치 딕셔너리 dict[\"key\"] = value 처럼)\n",
        "cleaned_df.loc[:, \"num_family\"] = sum\n",
        "\n",
        "# 결과 확인하기\n",
        "print(cleaned_df)\n"
      ],
      "metadata": {
        "colab": {
          "base_uri": "https://localhost:8080/"
        },
        "id": "P9apUG4DAJD9",
        "outputId": "baa75e7a-f360-45c8-a2b0-e245e4be6d8a"
      },
      "execution_count": null,
      "outputs": [
        {
          "output_type": "stream",
          "name": "stdout",
          "text": [
            "SibSp 컬럼과 Parch 컬럼의 덧셈 결과 : \n",
            "0       1\n",
            "1       1\n",
            "2       0\n",
            "3       1\n",
            "4       0\n",
            "       ..\n",
            "1304    0\n",
            "1305    0\n",
            "1306    0\n",
            "1307    0\n",
            "1308    2\n",
            "Length: 1309, dtype: int64\n",
            "--------------------------------------------------------------------------------\n",
            "      PassengerId  Survived  Pclass  \\\n",
            "0               1         0       3   \n",
            "1               2         1       1   \n",
            "2               3         1       3   \n",
            "3               4         1       1   \n",
            "4               5         0       3   \n",
            "...           ...       ...     ...   \n",
            "1304         1305         0       3   \n",
            "1305         1306         1       1   \n",
            "1306         1307         0       3   \n",
            "1307         1308         0       3   \n",
            "1308         1309         0       3   \n",
            "\n",
            "                                                   Name  Gender Age  SibSp  \\\n",
            "0                               Braund, Mr. Owen Harris    male   2      1   \n",
            "1     Cumings, Mrs. John Bradley (Florence Briggs Th...  female   3      1   \n",
            "2                                Heikkinen, Miss. Laina  female   2      0   \n",
            "3          Futrelle, Mrs. Jacques Heath (Lily May Peel)  female   3      1   \n",
            "4                              Allen, Mr. William Henry    male   3      0   \n",
            "...                                                 ...     ...  ..    ...   \n",
            "1304                                 Spector, Mr. Woolf    male   2      0   \n",
            "1305                       Oliva y Ocana, Dona. Fermina  female   3      0   \n",
            "1306                       Saether, Mr. Simon Sivertsen    male   3      0   \n",
            "1307                                Ware, Mr. Frederick    male   2      0   \n",
            "1308                           Peter, Master. Michael J    male   2      1   \n",
            "\n",
            "      Parch              Ticket      Fare Embarked  num_family  \n",
            "0         0           A/5 21171    7.2500        S           1  \n",
            "1         0            PC 17599   71.2833        C           1  \n",
            "2         0    STON/O2. 3101282    7.9250        S           0  \n",
            "3         0              113803   53.1000        S           1  \n",
            "4         0              373450    8.0500        S           0  \n",
            "...     ...                 ...       ...      ...         ...  \n",
            "1304      0           A.5. 3236    8.0500        S           0  \n",
            "1305      0            PC 17758  108.9000        C           0  \n",
            "1306      0  SOTON/O.Q. 3101262    7.2500        S           0  \n",
            "1307      0              359309    8.0500        S           0  \n",
            "1308      1                2668   22.3583        C           2  \n",
            "\n",
            "[1309 rows x 12 columns]\n"
          ]
        }
      ]
    },
    {
      "cell_type": "markdown",
      "source": [
        "#### Name 컬럼 세분화"
      ],
      "metadata": {
        "id": "mqbUV5dnDzf4"
      }
    },
    {
      "cell_type": "code",
      "source": [
        "### Name 컬럼 확인하기\n",
        "\"\"\"\n",
        "### 이름의 구성 : 성, 호칭. 이름      ## Name 컬럼에 승객들의 이름 형식은 이렇게 되어있음\n",
        "\"\"\"\n",
        "\n",
        "# Name 컬럼의 값 확인\n",
        "print(cleaned_df.loc[:, \"Name\"])"
      ],
      "metadata": {
        "colab": {
          "base_uri": "https://localhost:8080/"
        },
        "id": "tu04wt8VD4ud",
        "outputId": "b5d64a63-a8f2-4b09-80ab-3750820a3bf2"
      },
      "execution_count": null,
      "outputs": [
        {
          "output_type": "stream",
          "name": "stdout",
          "text": [
            "0                                 Braund, Mr. Owen Harris\n",
            "1       Cumings, Mrs. John Bradley (Florence Briggs Th...\n",
            "2                                  Heikkinen, Miss. Laina\n",
            "3            Futrelle, Mrs. Jacques Heath (Lily May Peel)\n",
            "4                                Allen, Mr. William Henry\n",
            "                              ...                        \n",
            "1304                                   Spector, Mr. Woolf\n",
            "1305                         Oliva y Ocana, Dona. Fermina\n",
            "1306                         Saether, Mr. Simon Sivertsen\n",
            "1307                                  Ware, Mr. Frederick\n",
            "1308                             Peter, Master. Michael J\n",
            "Name: Name, Length: 1309, dtype: object\n"
          ]
        }
      ]
    },
    {
      "cell_type": "code",
      "source": [
        "### \"호칭\" 추출 --> .split()\n",
        "\n",
        "\"\"\"\n",
        "### split() 함수\n",
        "(예시)\n",
        "name = \"Braund, Mr. Owen Harris\"\n",
        "name.split(\" \")\n",
        "\"\"\"\n",
        "\n",
        "# test name 생성\n",
        "test_name = cleaned_df.loc[:, \"Name\"].iloc[0]\n",
        "print(test_name)\n",
        "\n",
        "# 첫번째 분할 --> 기준 : ',' (쉼표)\n",
        "result1 = test_name.split(',')    ## 스플릿 해서 조각으로 자르고 리스트에 저장함\n",
        "print(f\"첫번째 분할의 결과 : {result1}\")\n",
        "\n",
        "print(\"-\" * 80)\n",
        "\n",
        "# 두번째 분할 --> 기준 : '.' (마침표)\n",
        "#result2 = result1[1].split('.')\n",
        "result2 = test_name.split(',')[1].split(\".\")\n",
        "print(f\"두번째 분할의 결과 : {result2}\")\n",
        "\n",
        "print(\"-\" * 80)\n",
        "\n",
        "# '호칭' 추출\n",
        "#title = result2[0]\n",
        "title = test_name.split(\",\")[1].split(\".\")[0]\n",
        "print(f\"추출한 호칭 확인 : {title}\")"
      ],
      "metadata": {
        "colab": {
          "base_uri": "https://localhost:8080/"
        },
        "id": "kPnIDd2LFJP1",
        "outputId": "fccccc4a-541e-478f-c1fa-22fb1a33485c"
      },
      "execution_count": null,
      "outputs": [
        {
          "output_type": "stream",
          "name": "stdout",
          "text": [
            "Braund, Mr. Owen Harris\n",
            "첫번째 분할의 결과 : ['Braund', ' Mr. Owen Harris']\n",
            "--------------------------------------------------------------------------------\n",
            "두번째 분할의 결과 : [' Mr', ' Owen Harris']\n",
            "--------------------------------------------------------------------------------\n",
            "추출한 호칭 확인 :  Mr\n"
          ]
        }
      ]
    },
    {
      "cell_type": "code",
      "source": [
        "### 문자열의 앞/뒤 공백 제거 --> strip() 함수\n",
        "\n",
        "# 예시\n",
        "string = \"    Hello World, Python!\"\n",
        "print(f\"strip 함수 사용 전 문자열 확인 : {string}\")\n",
        "print(\"-\" * 80)\n",
        "result = string.strip()\n",
        "print(f\"strip 함수 사용 후 문자열 확인 : {result}\")\n",
        "\n",
        "print(\"-\" * 80)\n",
        "\n",
        "# 추출된 호칭에 strip 함수 적용\n",
        "# title1 = title.strip()\n",
        "title1 = test_name.split(\",\")[1].split(\".\")[0].strip()\n",
        "print(title1)"
      ],
      "metadata": {
        "colab": {
          "base_uri": "https://localhost:8080/"
        },
        "id": "oZdbpDGyILqb",
        "outputId": "90479b0e-bdd3-4035-bcf6-744d4d7cd415"
      },
      "execution_count": null,
      "outputs": [
        {
          "output_type": "stream",
          "name": "stdout",
          "text": [
            "strip 함수 사용 전 문자열 확인 :     Hello World, Python!\n",
            "--------------------------------------------------------------------------------\n",
            "strip 함수 사용 후 문자열 확인 : Hello World, Python!\n",
            "--------------------------------------------------------------------------------\n",
            "Mr\n"
          ]
        }
      ]
    },
    {
      "cell_type": "code",
      "source": [
        "### Name 컬럼 --> 호칭 추출 함수 정의\n",
        "def extract_title(name):\n",
        "  # \",\"로 split --> 두번째 성분 원소 선택 --> '.'로 split --> 첫번째 성분 원소 선택 --> strip 함수\n",
        "  title = name.split(\",\")[1].split(\".\")[0].strip()\n",
        "  return title"
      ],
      "metadata": {
        "id": "xaJbJymFMXTL"
      },
      "execution_count": null,
      "outputs": []
    },
    {
      "cell_type": "code",
      "source": [
        "### Name 컬럼으로부터 호칭을 추출 --> 새로운 컬럼 --> 파생 변수 생성\n",
        "'''\n",
        "# 호칭 정리\n",
        "  1) 'Rev', 'Col', 'Major', 'Dr', 'Capt', 'Sir' : 직위 표현\n",
        "  2) 'Ms', 'Mme', 'Mrs', 'Dona' : 여성 표현\n",
        "  3) 'Miss', 'Mlle', 'Lady' : 젊은 여성 표현\n",
        "  4) 'Mr', 'Don' : 남성 표현\n",
        "  5) 'Master' : 주로 청소년 이하 결혼하지 않은 남성\n",
        "  6) 'Jonkheer', 'the Countess' : 귀족 표현\n",
        "'''\n",
        "\n",
        "# Name 컬럼 --> extract_title 적용 --> 호칭 추출 --> 새로운 컬럼 생성\n",
        "title = cleaned_df.loc[:, \"Name\"].apply(extract_title)   ## for-문 이런거 필요없이 그냥 정의한 함수 하나 가지고 apply() 해버리면 쭉 모든 행에 대해서 다 추출됨\n",
        "print(f\"호칭 추출의 결과 : \\n{title}\")\n",
        "\n",
        "print(\"-\" * 80)\n",
        "\n",
        "# title 컬럼 생성 + 추출된 호칭 입력\n",
        "cleaned_df.loc[:, \"title\"] = title\n",
        "# 결과 확인하기\n",
        "print(f\"title 컬럼 추가 후 데이터프레임 확인 : \\n{cleaned_df}\")"
      ],
      "metadata": {
        "colab": {
          "base_uri": "https://localhost:8080/"
        },
        "id": "8SB6JiniPwSe",
        "outputId": "bdf06320-8e37-46bb-9dd7-31335bb9e53e"
      },
      "execution_count": null,
      "outputs": [
        {
          "output_type": "stream",
          "name": "stdout",
          "text": [
            "호칭 추출의 결과 : \n",
            "0           Mr\n",
            "1          Mrs\n",
            "2         Miss\n",
            "3          Mrs\n",
            "4           Mr\n",
            "         ...  \n",
            "1304        Mr\n",
            "1305      Dona\n",
            "1306        Mr\n",
            "1307        Mr\n",
            "1308    Master\n",
            "Name: Name, Length: 1309, dtype: object\n",
            "--------------------------------------------------------------------------------\n",
            "title 컬럼 추가 후 데이터프레임 확인 : \n",
            "      PassengerId  Survived  Pclass  \\\n",
            "0               1         0       3   \n",
            "1               2         1       1   \n",
            "2               3         1       3   \n",
            "3               4         1       1   \n",
            "4               5         0       3   \n",
            "...           ...       ...     ...   \n",
            "1304         1305         0       3   \n",
            "1305         1306         1       1   \n",
            "1306         1307         0       3   \n",
            "1307         1308         0       3   \n",
            "1308         1309         0       3   \n",
            "\n",
            "                                                   Name  Gender Age  SibSp  \\\n",
            "0                               Braund, Mr. Owen Harris    male   2      1   \n",
            "1     Cumings, Mrs. John Bradley (Florence Briggs Th...  female   3      1   \n",
            "2                                Heikkinen, Miss. Laina  female   2      0   \n",
            "3          Futrelle, Mrs. Jacques Heath (Lily May Peel)  female   3      1   \n",
            "4                              Allen, Mr. William Henry    male   3      0   \n",
            "...                                                 ...     ...  ..    ...   \n",
            "1304                                 Spector, Mr. Woolf    male   2      0   \n",
            "1305                       Oliva y Ocana, Dona. Fermina  female   3      0   \n",
            "1306                       Saether, Mr. Simon Sivertsen    male   3      0   \n",
            "1307                                Ware, Mr. Frederick    male   2      0   \n",
            "1308                           Peter, Master. Michael J    male   2      1   \n",
            "\n",
            "      Parch              Ticket      Fare Embarked  num_family   title  \n",
            "0         0           A/5 21171    7.2500        S           1      Mr  \n",
            "1         0            PC 17599   71.2833        C           1     Mrs  \n",
            "2         0    STON/O2. 3101282    7.9250        S           0    Miss  \n",
            "3         0              113803   53.1000        S           1     Mrs  \n",
            "4         0              373450    8.0500        S           0      Mr  \n",
            "...     ...                 ...       ...      ...         ...     ...  \n",
            "1304      0           A.5. 3236    8.0500        S           0      Mr  \n",
            "1305      0            PC 17758  108.9000        C           0    Dona  \n",
            "1306      0  SOTON/O.Q. 3101262    7.2500        S           0      Mr  \n",
            "1307      0              359309    8.0500        S           0      Mr  \n",
            "1308      1                2668   22.3583        C           2  Master  \n",
            "\n",
            "[1309 rows x 13 columns]\n"
          ]
        }
      ]
    },
    {
      "cell_type": "markdown",
      "source": [
        "#### title 컬럼 정리"
      ],
      "metadata": {
        "id": "u6LpV4GS46Pc"
      }
    },
    {
      "cell_type": "code",
      "source": [
        "### title 컬럼의 항목별 빈도수 / 비율 확인\n",
        "\n",
        "# 빈도수 추출\n",
        "counts = cleaned_df.loc[:, \"title\"].value_counts()\n",
        "print(f\"title 컬럼의 호칭별 빈도수 확인 : \\n{counts}\")\n",
        "\n",
        "print(\"-\" * 80)\n",
        "\n",
        "# 비율 추출\n",
        "ratio = cleaned_df.loc[:, \"title\"].value_counts(normalize = True)\n",
        "print(f\"title 컬럼의 호칭별 비율 확인 : \\n{ratio}\")\n"
      ],
      "metadata": {
        "colab": {
          "base_uri": "https://localhost:8080/"
        },
        "id": "t8Axyyjd47hG",
        "outputId": "19becbc7-ec69-4466-b922-d52d1c89f3c1"
      },
      "execution_count": null,
      "outputs": [
        {
          "output_type": "stream",
          "name": "stdout",
          "text": [
            "title 컬럼의 호칭별 빈도수 확인 : \n",
            "title\n",
            "Mr              757\n",
            "Miss            260\n",
            "Mrs             197\n",
            "Master           61\n",
            "Rev               8\n",
            "Dr                8\n",
            "Col               4\n",
            "Mlle              2\n",
            "Major             2\n",
            "Ms                2\n",
            "Lady              1\n",
            "Sir               1\n",
            "Mme               1\n",
            "Don               1\n",
            "Capt              1\n",
            "the Countess      1\n",
            "Jonkheer          1\n",
            "Dona              1\n",
            "Name: count, dtype: int64\n",
            "--------------------------------------------------------------------------------\n",
            "title 컬럼의 호칭별 비율 확인 : \n",
            "title\n",
            "Mr              0.578304\n",
            "Miss            0.198625\n",
            "Mrs             0.150497\n",
            "Master          0.046600\n",
            "Rev             0.006112\n",
            "Dr              0.006112\n",
            "Col             0.003056\n",
            "Mlle            0.001528\n",
            "Major           0.001528\n",
            "Ms              0.001528\n",
            "Lady            0.000764\n",
            "Sir             0.000764\n",
            "Mme             0.000764\n",
            "Don             0.000764\n",
            "Capt            0.000764\n",
            "the Countess    0.000764\n",
            "Jonkheer        0.000764\n",
            "Dona            0.000764\n",
            "Name: proportion, dtype: float64\n"
          ]
        }
      ]
    },
    {
      "cell_type": "code",
      "source": [
        "### Series --> Index 확인 --> \"호칭\" 추출\n",
        "row_index = counts.index\n",
        "print(f\"행 인덱스 확인 : \\n{row_index}\")\n"
      ],
      "metadata": {
        "colab": {
          "base_uri": "https://localhost:8080/"
        },
        "id": "s4ZN77pw8i5W",
        "outputId": "b8392f1d-63ff-412a-d9cc-460b6801db54"
      },
      "execution_count": null,
      "outputs": [
        {
          "output_type": "stream",
          "name": "stdout",
          "text": [
            "행 인덱스 확인 : \n",
            "Index(['Mr', 'Miss', 'Mrs', 'Master', 'Rev', 'Dr', 'Col', 'Mlle', 'Major',\n",
            "       'Ms', 'Lady', 'Sir', 'Mme', 'Don', 'Capt', 'the Countess', 'Jonkheer',\n",
            "       'Dona'],\n",
            "      dtype='object', name='title')\n"
          ]
        }
      ]
    },
    {
      "cell_type": "code",
      "source": [
        "### title 컬럼에서 Mr 또는 Miss 또는 Mrs 또는 Master가 아닌 값 -> Other로 변환\n",
        "\n",
        "# 데이터프레임 복사\n",
        "df_test = cleaned_df.copy()    ## 원본 변형을 막으려면 .copy()를 써야됨\n",
        "\n",
        "#1. replace() 함수 사용 --> 호칭 변환\n",
        "df_test.loc[:, \"title\"].replace({row_index[4] : \"other\",\n",
        "                                    row_index[5] : \"other\",\n",
        "                                    row_index[6] : \"other\",\n",
        "                                    row_index[7] : \"other\",\n",
        "                                    row_index[8] : \"other\",\n",
        "                                    row_index[9] : \"other\",\n",
        "                                    row_index[10] : \"other\",\n",
        "                                    row_index[11] : \"other\",\n",
        "                                    row_index[12] : \"other\",\n",
        "                                    row_index[13] : \"other\",\n",
        "                                    row_index[14] : \"other\",\n",
        "                                    row_index[15] : \"other\",\n",
        "                                    row_index[16] : \"other\",\n",
        "                                    row_index[17] : \"other\"}, inplace = True)\n",
        "\n",
        "# 결과 확인하기 : df_test -> title 컬럼 --> 호칭별 빈도수\n",
        "counts = df_test.loc[:, \"title\"].value_counts()\n",
        "print(f\"호칭 변환 후 title 컬럼의 호칭별 빈도수 : \\n{counts}\")\n",
        "\n"
      ],
      "metadata": {
        "colab": {
          "base_uri": "https://localhost:8080/"
        },
        "id": "2h45EIM85XGf",
        "outputId": "b6090acb-ba64-4a58-d179-98932f35e39c"
      },
      "execution_count": null,
      "outputs": [
        {
          "output_type": "stream",
          "name": "stdout",
          "text": [
            "호칭 변환 후 title 컬럼의 호칭별 빈도수 : \n",
            "title\n",
            "Mr        757\n",
            "Miss      260\n",
            "Mrs       197\n",
            "Master     61\n",
            "other      34\n",
            "Name: count, dtype: int64\n"
          ]
        }
      ]
    },
    {
      "cell_type": "code",
      "source": [
        "print(cleaned_df.loc[:, \"title\"].value_counts)"
      ],
      "metadata": {
        "colab": {
          "base_uri": "https://localhost:8080/"
        },
        "id": "tzYA0ki6AH8G",
        "outputId": "de4cfc93-ffe0-40ae-ab75-3ebd039d5ed6"
      },
      "execution_count": null,
      "outputs": [
        {
          "output_type": "stream",
          "name": "stdout",
          "text": [
            "<bound method IndexOpsMixin.value_counts of 0           Mr\n",
            "1          Mrs\n",
            "2         Miss\n",
            "3          Mrs\n",
            "4           Mr\n",
            "         ...  \n",
            "1304        Mr\n",
            "1305      Dona\n",
            "1306        Mr\n",
            "1307        Mr\n",
            "1308    Master\n",
            "Name: title, Length: 1309, dtype: object>\n"
          ]
        }
      ]
    },
    {
      "cell_type": "code",
      "source": [
        "### title 컬럼에서 Mr 또는 Miss 또는 Mrs 또는 Master가 아닌 값 -> Other로 변환(2)\n",
        "\n",
        "# 비교 연산자 이용 --> 불리언 배열 생성\n",
        "condition1 = (cleaned_df.loc[:, \"title\"] != \"Mr\")\n",
        "condition2 = (cleaned_df.loc[:, \"title\"] != \"Mrs\")\n",
        "condition3 = (cleaned_df.loc[:, \"title\"] != \"Miss\")\n",
        "condition4 = (cleaned_df.loc[:, \"title\"] != \"Master\")\n",
        "\n",
        "condition = condition1 & condition2 & condition3 & condition4    ## 네가지 조건의 교집합\n",
        "print(f\"4가지 조건을 모두 만족하는 경우 확인 : \\n{condition}\")\n",
        "\n",
        "print(\"-\" * 80)\n",
        "\n",
        "# 비교 연산자의 결과 --> 불리언 인덱싱 --> other로 수정\n",
        "cleaned_df.loc[condition, \"title\"] = \"other\"    ## other로 수정\n",
        "\n",
        "# 결과 확인하기 -> title 컬럼의 항목별 빈도수 추출\n",
        "counts = cleaned_df.loc[:, \"title\"].value_counts()\n",
        "print(f\"title 컬럼의 항목별 빈도수 : \\n{counts}\")"
      ],
      "metadata": {
        "colab": {
          "base_uri": "https://localhost:8080/"
        },
        "id": "DJ9buRuc9fps",
        "outputId": "340c49be-31b3-4d4f-eb38-cb2d6c8eefaf"
      },
      "execution_count": null,
      "outputs": [
        {
          "output_type": "stream",
          "name": "stdout",
          "text": [
            "4가지 조건을 모두 만족하는 경우 확인 : \n",
            "0       False\n",
            "1       False\n",
            "2       False\n",
            "3       False\n",
            "4       False\n",
            "        ...  \n",
            "1304    False\n",
            "1305     True\n",
            "1306    False\n",
            "1307    False\n",
            "1308    False\n",
            "Name: title, Length: 1309, dtype: bool\n",
            "--------------------------------------------------------------------------------\n",
            "title 컬럼의 항목별 빈도수 : \n",
            "title\n",
            "Mr        757\n",
            "Miss      260\n",
            "Mrs       197\n",
            "Master     61\n",
            "other      34\n",
            "Name: count, dtype: int64\n"
          ]
        }
      ]
    },
    {
      "cell_type": "markdown",
      "source": [
        "### 불필요한 컬럼 삭제"
      ],
      "metadata": {
        "id": "zOSXOXefIt1v"
      }
    },
    {
      "cell_type": "code",
      "source": [
        "cleaned_df.info()  ## 전체적으로 개요를 다 볼 수 있음 dataframe"
      ],
      "metadata": {
        "colab": {
          "base_uri": "https://localhost:8080/"
        },
        "id": "uZraToLGI0e2",
        "outputId": "4217ee42-7016-49d8-dd3a-4eabd2ab879a"
      },
      "execution_count": null,
      "outputs": [
        {
          "output_type": "stream",
          "name": "stdout",
          "text": [
            "<class 'pandas.core.frame.DataFrame'>\n",
            "RangeIndex: 1309 entries, 0 to 1308\n",
            "Data columns (total 13 columns):\n",
            " #   Column       Non-Null Count  Dtype   \n",
            "---  ------       --------------  -----   \n",
            " 0   PassengerId  1309 non-null   int64   \n",
            " 1   Survived     1309 non-null   int64   \n",
            " 2   Pclass       1309 non-null   int64   \n",
            " 3   Name         1309 non-null   object  \n",
            " 4   Gender       1309 non-null   object  \n",
            " 5   Age          1309 non-null   category\n",
            " 6   SibSp        1309 non-null   int64   \n",
            " 7   Parch        1309 non-null   int64   \n",
            " 8   Ticket       1309 non-null   object  \n",
            " 9   Fare         1309 non-null   float64 \n",
            " 10  Embarked     1309 non-null   object  \n",
            " 11  num_family   1309 non-null   int64   \n",
            " 12  title        1309 non-null   object  \n",
            "dtypes: category(1), float64(1), int64(6), object(5)\n",
            "memory usage: 124.5+ KB\n"
          ]
        }
      ]
    },
    {
      "cell_type": "code",
      "source": [
        "### 삭제의 대상 : PassengerId, Name, Ticket, Embarked\n",
        "df = cleaned_df.drop(columns = [\"PassengerId\", \"Name\", \"Ticket\", \"Embarked\"])   ## 이 콜롬들은 불필요함\n",
        "\n",
        "# 결과 확인하기\n",
        "print(df)"
      ],
      "metadata": {
        "colab": {
          "base_uri": "https://localhost:8080/"
        },
        "id": "rMWlxPGVI80o",
        "outputId": "12588798-78c1-44fb-fcfc-fea259cde7e5"
      },
      "execution_count": null,
      "outputs": [
        {
          "output_type": "stream",
          "name": "stdout",
          "text": [
            "      Survived  Pclass  Gender Age  SibSp  Parch      Fare  num_family   title\n",
            "0            0       3    male   2      1      0    7.2500           1      Mr\n",
            "1            1       1  female   3      1      0   71.2833           1     Mrs\n",
            "2            1       3  female   2      0      0    7.9250           0    Miss\n",
            "3            1       1  female   3      1      0   53.1000           1     Mrs\n",
            "4            0       3    male   3      0      0    8.0500           0      Mr\n",
            "...        ...     ...     ...  ..    ...    ...       ...         ...     ...\n",
            "1304         0       3    male   2      0      0    8.0500           0      Mr\n",
            "1305         1       1  female   3      0      0  108.9000           0   other\n",
            "1306         0       3    male   3      0      0    7.2500           0      Mr\n",
            "1307         0       3    male   2      0      0    8.0500           0      Mr\n",
            "1308         0       3    male   2      1      1   22.3583           2  Master\n",
            "\n",
            "[1309 rows x 9 columns]\n"
          ]
        }
      ]
    },
    {
      "cell_type": "markdown",
      "source": [
        "### 결과 저장하기"
      ],
      "metadata": {
        "id": "BQwT7REeLRdq"
      }
    },
    {
      "cell_type": "code",
      "source": [
        "### 정제한 데이터를 csv 파일로 저장하기\n",
        "\n",
        "# 파일 경로 설정\n",
        "file_path = \"/content/drive/MyDrive/ML AI/Mega/데이터분석/데이터/titanic_cleaned.csv\"   ##새로운 csv파일로 저장 (titanic_cleaned)\n",
        "\n",
        "# df.to_csv() 함수 사용\n",
        "df.to_csv(file_path, index = False)"
      ],
      "metadata": {
        "id": "HQaNcYFoLTj5"
      },
      "execution_count": null,
      "outputs": []
    },
    {
      "cell_type": "code",
      "source": [
        "### 저장된 결과 불러오기\n",
        "\n",
        "# 필요한 라이브러리 임폴트\n",
        "import pandas as pd\n",
        "\n",
        "# 파일 경로 설정\n",
        "file_path = \"/content/drive/MyDrive/ML AI/Mega/데이터분석/데이터/titanic_cleaned.csv\"\n",
        "\n",
        "# pd.read_csv()\n",
        "# loaded_df = pd.read_csv(file_path)\n",
        "df = pd.read_csv(file_path)\n",
        "# print(loaded_df)\n",
        "print(df)"
      ],
      "metadata": {
        "colab": {
          "base_uri": "https://localhost:8080/"
        },
        "id": "gOKwSFxONKba",
        "outputId": "17e40ffc-54ff-43dc-eeaf-c4efc54dffed"
      },
      "execution_count": null,
      "outputs": [
        {
          "output_type": "stream",
          "name": "stdout",
          "text": [
            "      Survived  Pclass  Gender  Age  SibSp  Parch      Fare  num_family  \\\n",
            "0            0       3    male    2      1      0    7.2500           1   \n",
            "1            1       1  female    3      1      0   71.2833           1   \n",
            "2            1       3  female    2      0      0    7.9250           0   \n",
            "3            1       1  female    3      1      0   53.1000           1   \n",
            "4            0       3    male    3      0      0    8.0500           0   \n",
            "...        ...     ...     ...  ...    ...    ...       ...         ...   \n",
            "1304         0       3    male    2      0      0    8.0500           0   \n",
            "1305         1       1  female    3      0      0  108.9000           0   \n",
            "1306         0       3    male    3      0      0    7.2500           0   \n",
            "1307         0       3    male    2      0      0    8.0500           0   \n",
            "1308         0       3    male    2      1      1   22.3583           2   \n",
            "\n",
            "       title  \n",
            "0         Mr  \n",
            "1        Mrs  \n",
            "2       Miss  \n",
            "3        Mrs  \n",
            "4         Mr  \n",
            "...      ...  \n",
            "1304      Mr  \n",
            "1305   other  \n",
            "1306      Mr  \n",
            "1307      Mr  \n",
            "1308  Master  \n",
            "\n",
            "[1309 rows x 9 columns]\n"
          ]
        }
      ]
    },
    {
      "cell_type": "markdown",
      "source": [
        "### 데이터 탐색"
      ],
      "metadata": {
        "id": "fMmJgHVkOBwL"
      }
    },
    {
      "cell_type": "code",
      "source": [
        "# 경고 메시지 제어 모듈\n",
        "import warnings\n",
        "\n",
        "# 경고 메시지 처리 함수 호출 --> \"무시\" 하도록 설정\n",
        "warnings.filterwarnings(\"ignore\")   ## 어떤 경고 사항이 발생하면 걔를 무시함"
      ],
      "metadata": {
        "id": "moBaHp8JOEJ0"
      },
      "execution_count": null,
      "outputs": []
    },
    {
      "cell_type": "code",
      "source": [
        "### 시각화 관련 라이브러리 임폴트\n",
        "import matplotlib.pyplot as plt\n",
        "import seaborn as sns"
      ],
      "metadata": {
        "id": "kDqP1lPgTKzl"
      },
      "execution_count": null,
      "outputs": []
    },
    {
      "cell_type": "markdown",
      "source": [
        "#### Survived 컬럼"
      ],
      "metadata": {
        "id": "jUw0OwOfPgAG"
      }
    },
    {
      "cell_type": "code",
      "source": [
        "### 사망자 수 / 생존자 수 통계 분석\n",
        "\n",
        "# 빈도수 추출\n",
        "counts = df.loc[:, \"Survived\"].value_counts()\n",
        "print(f\"사망자 / 생존자 빈도수 : \\n{counts}\")\n",
        "\n",
        "print(\"-\" * 80)\n",
        "\n",
        "# 비율 추출\n",
        "ratio = df.loc[:, \"Survived\"].value_counts(normalize = True)\n",
        "print(f\"사망자 / 생존자 비율 : \\n{ratio}\")"
      ],
      "metadata": {
        "colab": {
          "base_uri": "https://localhost:8080/"
        },
        "id": "DZj1wSJIPhoT",
        "outputId": "b2e6df44-444d-4c0f-a6e3-52537653c68e"
      },
      "execution_count": null,
      "outputs": [
        {
          "output_type": "stream",
          "name": "stdout",
          "text": [
            "사망자 / 생존자 빈도수 : \n",
            "Survived\n",
            "0    815\n",
            "1    494\n",
            "Name: count, dtype: int64\n",
            "--------------------------------------------------------------------------------\n",
            "사망자 / 생존자 비율 : \n",
            "Survived\n",
            "0    0.622613\n",
            "1    0.377387\n",
            "Name: proportion, dtype: float64\n"
          ]
        }
      ]
    },
    {
      "cell_type": "code",
      "source": [
        "### 사망자 / 생존자 분포 시각화\n",
        "\n",
        "## 범주형 데이터의 항목별 빈도수 시각화 --> 막대 그래프, 원 그래프\n",
        "\n",
        "# 막대 그래프\n",
        "sns.countplot(data = df, x = \"Survived\", palette = \"husl\")\n",
        "plt.show()\n",
        "\n",
        "# 원 그래프\n",
        "wedge_size = ratio.values    ## ratio.values 쓰면 배열안에 1차원으로 값이 담김\n",
        "colours = [\"lightskyblue\", \"lightcoral\"]\n",
        "labels = [\"Dead\", \"Alive\"]\n",
        "wedgeprops = {\"width\" : 0.7, \"edgecolor\" : \"white\", \"linewidth\" : 3}\n",
        "\n",
        "plt.pie(x = wedge_size, labels = labels, colors = colours, autopct = \"%.1f%%\", shadow = True, wedgeprops = wedgeprops)\n",
        "plt.show()\n",
        "\n"
      ],
      "metadata": {
        "colab": {
          "base_uri": "https://localhost:8080/",
          "height": 838
        },
        "id": "TBmdA5gwRq2r",
        "outputId": "6c317000-6888-43ab-c729-2abb1d81d227"
      },
      "execution_count": null,
      "outputs": [
        {
          "output_type": "display_data",
          "data": {
            "text/plain": [
              "<Figure size 640x480 with 1 Axes>"
            ],
            "image/png": "[encoded data removed]"
          },
          "metadata": {}
        },
        {
          "output_type": "display_data",
          "data": {
            "text/plain": [
              "<Figure size 640x480 with 1 Axes>"
            ],
            "image/png": "[encoded data removed]"
          },
          "metadata": {}
        }
      ]
    },
    {
      "cell_type": "markdown",
      "source": [
        "#### 생존 여부와 승객의 등급 분석"
      ],
      "metadata": {
        "id": "ss7sba_ZW0Jm"
      }
    },
    {
      "cell_type": "code",
      "source": [
        "### 탑승객의 등급 통계 분석\n",
        "\n",
        "# 승객의 등급별 빈도수 추출\n",
        "counts = df.loc[:, \"Pclass\"].value_counts()\n",
        "print(f\"탑승객의 등급별 빈도수 : \\n{counts}\")\n",
        "\n",
        "print(\"-\" * 80)\n",
        "\n",
        "# 승객의 등급별 비율\n",
        "ratio = df.loc[:, \"Pclass\"].value_counts(normalize = True)\n",
        "print(f\"탑승객의 등급별 비율 : \\n{ratio}\")"
      ],
      "metadata": {
        "colab": {
          "base_uri": "https://localhost:8080/"
        },
        "id": "Bx34oe9XW4qm",
        "outputId": "8c31ffb4-38ec-4544-a111-6700aebd6bb6"
      },
      "execution_count": null,
      "outputs": [
        {
          "output_type": "stream",
          "name": "stdout",
          "text": [
            "탑승객의 등급별 빈도수 : \n",
            "Pclass\n",
            "3    709\n",
            "1    323\n",
            "2    277\n",
            "Name: count, dtype: int64\n",
            "--------------------------------------------------------------------------------\n",
            "탑승객의 등급별 비율 : \n",
            "Pclass\n",
            "3    0.541635\n",
            "1    0.246753\n",
            "2    0.211612\n",
            "Name: proportion, dtype: float64\n"
          ]
        }
      ]
    },
    {
      "cell_type": "code",
      "source": [
        "### 탑승객의 등급 분포 시각화\n",
        "\n",
        "# 범주형 데이터 --> 항목별 빈도수 --> 막대 그래프\n",
        "sns.countplot(data = df, x = \"Pclass\", palette = \"pastel\")\n",
        "plt.show()"
      ],
      "metadata": {
        "colab": {
          "base_uri": "https://localhost:8080/",
          "height": 449
        },
        "id": "0ExtkDGMW9XT",
        "outputId": "4cd72882-0927-43ea-d37c-771c0de1f56b"
      },
      "execution_count": null,
      "outputs": [
        {
          "output_type": "display_data",
          "data": {
            "text/plain": [
              "<Figure size 640x480 with 1 Axes>"
            ],
            "image/png": "[encoded data removed]"
          },
          "metadata": {}
        }
      ]
    },
    {
      "cell_type": "code",
      "source": [
        "### Survived 컬럼과 Pclass 컬럼의 관계 분석\n",
        "sns.countplot(data = df, x = \"Pclass\", hue = \"Survived\", palette = \"husl\")   ## 등급별로 생존과 사망이 어떻게 차이가 나는지\n",
        "plt.show()\n",
        "\n",
        "# 결과: 전체 62.3% 사망에 37.7% 생존인데 그 62.3% 안에서도 3 등석에 있던 승객들이 제일 많이 죽었다. => 좌석등급과 생존과 연관성이 있음"
      ],
      "metadata": {
        "colab": {
          "base_uri": "https://localhost:8080/",
          "height": 449
        },
        "id": "TSKZm52wYUZk",
        "outputId": "3a20cb0b-2748-41b0-bbe3-baba39164bae"
      },
      "execution_count": null,
      "outputs": [
        {
          "output_type": "display_data",
          "data": {
            "text/plain": [
              "<Figure size 640x480 with 1 Axes>"
            ],
            "image/png": "[encoded data removed]"
          },
          "metadata": {}
        }
      ]
    },
    {
      "cell_type": "code",
      "source": [
        "### 승객 등급별 생존자 / 사망자 빈도수와 통계 분석\n",
        "\n",
        "## 1등석 --> 사망자 / 생존자 통계 분석\n",
        "\n",
        "# 빈도수 분석\n",
        "condition1 = df.loc[:, \"Pclass\"] == 1     ## 탑승객의 선실 등급이 1등급에 속하는 row들만 다 추출해서 뽑아냄\n",
        "# print(condition1)\n",
        "pclass1_survived_counts = df.loc[condition1, \"Survived\"].value_counts()  ## 1등석인 승객들의 생존 여부 빈도수 (비율) 추출\n",
        "print(f\"1등석 탑승객 중 사망자 / 생존자 빈도수 : \\n{pclass1_survived_counts}\")\n",
        "\n",
        "print(\"-\" * 80)\n",
        "\n",
        "# 비율 분석\n",
        "pclass1_survived_ratio = df.loc[condition1, \"Survived\"].value_counts(normalize = True)  ## 빈도수를 비율로 변환\n",
        "print(f\"1등석 탑승객 중 사망자 / 생존자 비율 : \\n{pclass1_survived_ratio}\")\n",
        "\n",
        "print(\"-\" * 80)\n",
        "\n",
        "## 2등석 --> 사망자 / 생존자 통계 분석\n",
        "\n",
        "# 빈도수 분석\n",
        "condition2 = df.loc[:, \"Pclass\"] == 2  ## 탑승객의 선실 등급이 2등급에 속하는 row들만 다 추출해서 뽑아냄\n",
        "pclass2_survived_counts = df.loc[condition2, \"Survived\"].value_counts()\n",
        "print(f\"2등석 탑승객 중 사망자 / 생존자 빈도수 : \\n{pclass2_survived_counts}\")\n",
        "\n",
        "print(\"-\" * 80)\n",
        "\n",
        "# 비율 분석\n",
        "pclass2_survived_ratio = df.loc[condition2, \"Survived\"].value_counts(normalize = True) ## 빈도수를 비율로 변환\n",
        "print(f\"2등석 탑승객 중 사망자 / 생존자 비율 : \\n{pclass2_survived_ratio}\")\n",
        "\n",
        "print(\"-\" * 80)\n",
        "\n",
        "## 3등석 --> 사망자 / 생존자 통계 분석\n",
        "\n",
        "# 빈도수 분석\n",
        "condition3 = df.loc[:, \"Pclass\"] == 3  ## 탑승객의 선실 등급이 3등급에 속하는 row들만 다 추출해서 뽑아냄\n",
        "pclass3_survived_counts = df.loc[condition3, \"Survived\"].value_counts()\n",
        "print(f\"3등석 탑승객 중 사망자 / 생존자 빈도수 : \\n{pclass3_survived_counts}\")\n",
        "\n",
        "print(\"-\" * 80)\n",
        "\n",
        "# 비율 분석\n",
        "pclass3_survived_ratio = df.loc[condition3, \"Survived\"].value_counts(normalize = True) ## 빈도수를 비율로 변환\n",
        "print(f\"3등석 탑승객 중 사망자 / 생존자 비율 : \\n{pclass3_survived_ratio}\")\n",
        "\n",
        "\n"
      ],
      "metadata": {
        "id": "JPlSvIG0ZUS8",
        "colab": {
          "base_uri": "https://localhost:8080/"
        },
        "outputId": "6bc6dadd-59c8-4a52-9d7d-b8be99664317"
      },
      "execution_count": null,
      "outputs": [
        {
          "output_type": "stream",
          "name": "stdout",
          "text": [
            "1등석 탑승객 중 사망자 / 생존자 빈도수 : \n",
            "Survived\n",
            "1    186\n",
            "0    137\n",
            "Name: count, dtype: int64\n",
            "--------------------------------------------------------------------------------\n",
            "1등석 탑승객 중 사망자 / 생존자 비율 : \n",
            "Survived\n",
            "1    0.575851\n",
            "0    0.424149\n",
            "Name: proportion, dtype: float64\n",
            "--------------------------------------------------------------------------------\n",
            "2등석 탑승객 중 사망자 / 생존자 빈도수 : \n",
            "Survived\n",
            "0    160\n",
            "1    117\n",
            "Name: count, dtype: int64\n",
            "--------------------------------------------------------------------------------\n",
            "2등석 탑승객 중 사망자 / 생존자 비율 : \n",
            "Survived\n",
            "0    0.577617\n",
            "1    0.422383\n",
            "Name: proportion, dtype: float64\n",
            "--------------------------------------------------------------------------------\n",
            "3등석 탑승객 중 사망자 / 생존자 빈도수 : \n",
            "Survived\n",
            "0    518\n",
            "1    191\n",
            "Name: count, dtype: int64\n",
            "--------------------------------------------------------------------------------\n",
            "3등석 탑승객 중 사망자 / 생존자 비율 : \n",
            "Survived\n",
            "0    0.730606\n",
            "1    0.269394\n",
            "Name: proportion, dtype: float64\n"
          ]
        }
      ]
    },
    {
      "cell_type": "markdown",
      "source": [
        "#### 생존 여부와 성별의 관계 부석"
      ],
      "metadata": {
        "id": "6PsOJFVQHid6"
      }
    },
    {
      "cell_type": "code",
      "source": [
        "### 전체 탑승객 성별 통계 분석\n",
        "\n",
        "# 성별 빈도수 추출\n",
        "counts = df.loc[:, \"Gender\"].value_counts()   ## 총 탑승객들의 성별 추출\n",
        "print(f\"Gender 컬럼의 남녀 빈도수 : \\n{counts}\")\n",
        "\n",
        "print(\"-\" * 80)\n",
        "\n",
        "# 성별 비율 추출\n",
        "ratio = df.loc[:, \"Gender\"].value_counts(normalize = True)  ## 빈도수를 비율로 변환\n",
        "print(f\"Gender 컬럼의 남녀 비율 : \\n{ratio}\")"
      ],
      "metadata": {
        "colab": {
          "base_uri": "https://localhost:8080/"
        },
        "id": "7KZV1KFxHk2j",
        "outputId": "b89729fb-5fe7-4c67-d91c-0161c8193356"
      },
      "execution_count": null,
      "outputs": [
        {
          "output_type": "stream",
          "name": "stdout",
          "text": [
            "Gender 컬럼의 남녀 빈도수 : \n",
            "Gender\n",
            "male      843\n",
            "female    466\n",
            "Name: count, dtype: int64\n",
            "--------------------------------------------------------------------------------\n",
            "Gender 컬럼의 남녀 비율 : \n",
            "Gender\n",
            "male      0.644003\n",
            "female    0.355997\n",
            "Name: proportion, dtype: float64\n"
          ]
        }
      ]
    },
    {
      "cell_type": "code",
      "source": [
        "### 전체 탑승객 성별 빈도수 통계 시각화\n",
        "\n",
        "# 빈도수 --> 막대 그래프\n",
        "sns.countplot(data = df, x = \"Gender\", palette = \"dark\")    ## 수직 막대 그래프로 빈도수를 x축에 gender에 대해서 y 축 빈도수 표시\n",
        "plt.show()\n",
        "\n",
        "print(\"-\" * 80)\n",
        "\n",
        "# 비율 --> 원 그래프\n",
        "## Seaborn 에서는 원그래프를 제공 안함 (matplotlib 에서 제공하는 pie 함수로만 가능)\n",
        "\n",
        "## ratio가 중복으로 여러셀에 있을 경우 가장 최신 (마지막 셀)에서 지정한 값이 됨 (Gender)\n",
        "wedge_size = ratio.values      ## ratio에 있는 비율이 .values를 통해서 1차원 배열안에 값이 저장이 됨\n",
        "colors = [\"lightskyblue\", \"lightcoral\"]\n",
        "labels = [\"male\", \"female\"]\n",
        "wedgeprops = {\"width\" : 0.7, \"edgecolor\" : \"white\", \"linewidth\" : 3}\n",
        "\n",
        "plt.pie(x = wedge_size, labels = labels, colors = colors, autopct = \"%.1f%%\", wedgeprops = wedgeprops, shadow = True)\n",
        "plt.show()\n"
      ],
      "metadata": {
        "colab": {
          "base_uri": "https://localhost:8080/",
          "height": 856
        },
        "id": "Fzo85IP2IXt3",
        "outputId": "c2620f43-0edb-4717-857a-5077fac50316"
      },
      "execution_count": null,
      "outputs": [
        {
          "output_type": "display_data",
          "data": {
            "text/plain": [
              "<Figure size 640x480 with 1 Axes>"
            ],
            "image/png": "[encoded data removed]"
          },
          "metadata": {}
        },
        {
          "output_type": "stream",
          "name": "stdout",
          "text": [
            "--------------------------------------------------------------------------------\n"
          ]
        },
        {
          "output_type": "display_data",
          "data": {
            "text/plain": [
              "<Figure size 640x480 with 1 Axes>"
            ],
            "image/png": "[encoded data removed]"
          },
          "metadata": {}
        }
      ]
    },
    {
      "cell_type": "code",
      "source": [
        "### Survived 컬럼과 Gender 컬럼의 관계 분석\n",
        "sns.countplot(data = df, x = \"Gender\", hue = \"Survived\")  ## hue = \"Survived\"를 넣어줘서 남녀의 생존 비율을 분석\n",
        "plt.show()\n"
      ],
      "metadata": {
        "colab": {
          "base_uri": "https://localhost:8080/",
          "height": 449
        },
        "id": "zOK2EWGRIwYd",
        "outputId": "7f505efc-2a54-4d6c-fe6e-103fb3b7da22"
      },
      "execution_count": null,
      "outputs": [
        {
          "output_type": "display_data",
          "data": {
            "text/plain": [
              "<Figure size 640x480 with 1 Axes>"
            ],
            "image/png": "[encoded data removed]"
          },
          "metadata": {}
        }
      ]
    },
    {
      "cell_type": "code",
      "source": [
        "### 성별 생존자 / 사망자  통계 분석\n",
        "\n",
        "## 여성 생존자 / 사망자 통계 분석\n",
        "\n",
        "# 빈도수 분석\n",
        "condition1 = df.loc[:, \"Gender\"] == \"female\"    ## 탑승객들 중 성별이 여성인 승객들만 추출\n",
        "female_survived_counts = df.loc[condition1, \"Survived\"].value_counts()   ## 여성 중 사망 / 생존 빈도수 추출\n",
        "print(f\"여성 중 사망자/ 생존자 수 : \\n{female_survived_counts}\")\n",
        "\n",
        "print(\"-\" * 80)\n",
        "\n",
        "# 비율 분석\n",
        "female_survived_ratio = df.loc[condition1, \"Survived\"].value_counts(normalize = True)  ## 빈도수 비율로 변환\n",
        "print(f\"여성 중 사망자 / 생존자 비율 : \\n{female_survived_ratio}\")\n",
        "\n",
        "print(\"-\" * 80)\n",
        "\n",
        "## 남성 생존자 / 사망자 통계 분석\n",
        "\n",
        "# 빈도수 분석\n",
        "\n",
        "condition2 = df.loc[:, \"Gender\"] == \"male\"    ## 탑승객들 중 성별이 남성인 승객들만 추출\n",
        "male_survived_counts = df.loc[condition2, \"Survived\"].value_counts()   ## 남성 중 사망 / 생존 빈도수 추출\n",
        "print(f\"남성 중 사망자/ 생존자 수 : \\n{male_survived_counts}\")\n",
        "\n",
        "print(\"-\" * 80)\n",
        "\n",
        "# 비율 분석\n",
        "male_survived_ratio = df.loc[condition2, \"Survived\"].value_counts(normalize = True)  ## 빈도수 비율로 변환\n",
        "print(f\"남성 중 사망자 / 생존자 비율 : \\n{male_survived_ratio}\")"
      ],
      "metadata": {
        "colab": {
          "base_uri": "https://localhost:8080/"
        },
        "id": "iPzhMwPrKwOk",
        "outputId": "01f4f9d9-15c1-4df0-ce37-56262763d091"
      },
      "execution_count": null,
      "outputs": [
        {
          "output_type": "stream",
          "name": "stdout",
          "text": [
            "여성 중 사망자/ 생존자 수 : \n",
            "Survived\n",
            "1    385\n",
            "0     81\n",
            "Name: count, dtype: int64\n",
            "--------------------------------------------------------------------------------\n",
            "여성 중 사망자 / 생존자 비율 : \n",
            "Survived\n",
            "1    0.82618\n",
            "0    0.17382\n",
            "Name: proportion, dtype: float64\n",
            "--------------------------------------------------------------------------------\n",
            "남성 중 사망자/ 생존자 수 : \n",
            "Survived\n",
            "0    734\n",
            "1    109\n",
            "Name: count, dtype: int64\n",
            "--------------------------------------------------------------------------------\n",
            "남성 중 사망자 / 생존자 비율 : \n",
            "Survived\n",
            "0    0.8707\n",
            "1    0.1293\n",
            "Name: proportion, dtype: float64\n"
          ]
        }
      ]
    },
    {
      "cell_type": "markdown",
      "source": [
        "#### 생존 여부와 연령의 관계 분석"
      ],
      "metadata": {
        "id": "LzDpWd3DRPez"
      }
    },
    {
      "cell_type": "code",
      "source": [
        "### 탑승객의 연령에 대한 통계 분석\n",
        "\n",
        "# 빈도수\n",
        "counts = df.loc[:, \"Age\"].value_counts()     ## 나이의 구간별 빈도수를 추출 (2 -> 20대, 3 -> 30대, ...)\n",
        "print(f\"탑승객의 연령 구간별 빈도수 : \\n{counts}\")\n",
        "\n",
        "print(\"-\" * 80)\n",
        "\n",
        "# 비율\n",
        "ratio = df.loc[:, \"Age\"].value_counts(normalize = True)  ## Age 컬럼의 항목별 빈도수를 비율로 변환\n",
        "print(f\"탑승객의 연령 구간별 비율 : \\n{ratio}\")\n",
        "\n",
        "## 전체 탑승객의 76% 정도가 10대 ~ 30대"
      ],
      "metadata": {
        "colab": {
          "base_uri": "https://localhost:8080/"
        },
        "id": "fkb9kmZZRSDS",
        "outputId": "14bd2e72-3b35-4618-c6ab-395d783417d2"
      },
      "execution_count": null,
      "outputs": [
        {
          "output_type": "stream",
          "name": "stdout",
          "text": [
            "탑승객의 연령 구간별 빈도수 : \n",
            "Age\n",
            "2    624\n",
            "3    210\n",
            "1    162\n",
            "4    132\n",
            "0     86\n",
            "5     62\n",
            "6     27\n",
            "7      6\n",
            "Name: count, dtype: int64\n",
            "--------------------------------------------------------------------------------\n",
            "탑승객의 연령 구간별 비율 : \n",
            "Age\n",
            "2    0.476700\n",
            "3    0.160428\n",
            "1    0.123759\n",
            "4    0.100840\n",
            "0    0.065699\n",
            "5    0.047364\n",
            "6    0.020626\n",
            "7    0.004584\n",
            "Name: proportion, dtype: float64\n"
          ]
        }
      ]
    },
    {
      "cell_type": "code",
      "source": [
        "### 탑승객 연령 분포 시각화\n",
        "\n",
        "\"\"\"\n",
        "색상 관련 공식 링크: https://seaborn.pydata.org/tutorial/color_palettes.html\n",
        "\"\"\"\n",
        "\n",
        "### 탑승객 연령 분포 시각화\n",
        "sns.countplot(data = df, x = \"Age\", palette = \"bright\")    ## 나이 구간별로 시각화\n",
        "plt.show()"
      ],
      "metadata": {
        "colab": {
          "base_uri": "https://localhost:8080/",
          "height": 449
        },
        "id": "7FeGQ6FNRyn9",
        "outputId": "d5fb7ca2-28ed-4640-bcf5-92b58d32d42f"
      },
      "execution_count": null,
      "outputs": [
        {
          "output_type": "display_data",
          "data": {
            "text/plain": [
              "<Figure size 640x480 with 1 Axes>"
            ],
            "image/png": "[encoded data removed]"
          },
          "metadata": {}
        }
      ]
    },
    {
      "cell_type": "code",
      "source": [
        "### Survived 컬럼과 Age 컬럼의 관계 분석\n",
        "sns.countplot(data = df, x = \"Age\", hue = \"Survived\")    ## 각 나잇대 구간별로 생존 여부가 어떻게 되는지\n",
        "plt.show()"
      ],
      "metadata": {
        "colab": {
          "base_uri": "https://localhost:8080/",
          "height": 449
        },
        "id": "treYCW32SkHI",
        "outputId": "6b9c73ae-18d8-4892-979e-14416a792ee7"
      },
      "execution_count": null,
      "outputs": [
        {
          "output_type": "display_data",
          "data": {
            "text/plain": [
              "<Figure size 640x480 with 1 Axes>"
            ],
            "image/png": "[encoded data removed]"
          },
          "metadata": {}
        }
      ]
    },
    {
      "cell_type": "code",
      "source": [
        "### 10대 / 20대 / 30대 생존 여부에 대한 통계 분석\n",
        "\n",
        "## 10대의 생존 여부에 대한 통계 분석\n",
        "\n",
        "# 빈도수\n",
        "condition1 = df.loc[:, \"Age\"] == 1    ## 구간화 해서 10대만 뽑으려면 Age 값이 1이랑 같으면 됨\n",
        "age10_survived_counts = df.loc[condition1, \"Survived\"].value_counts()   ##10대들의 생존여부 빈도수 추출\n",
        "print(f\"10대 중 사망자 / 생존자 수 : \\n{age10_survived_counts}\")\n",
        "\n",
        "print(\"-\" * 80)\n",
        "\n",
        "# 비율\n",
        "age10_survived_ratio = df.loc[condition1, \"Survived\"].value_counts(normalize = True)  ## 빈도수 비율로 변환\n",
        "print(f\"10대 중 사망자 / 생존자 수 : \\n{age10_survived_ratio}\")\n",
        "\n",
        "print(\"-\" * 80)\n",
        "\n",
        "## 20대의 생존 여부에 대한 통계 분석\n",
        "\n",
        "# 빈도수\n",
        "condition2 = df.loc[:, \"Age\"] == 2\n",
        "age20_survived_counts = df.loc[condition2, \"Survived\"].value_counts()\n",
        "print(f\"20대 중 사망자 / 생존자 수 : \\n{age20_survived_counts}\")\n",
        "\n",
        "print(\"-\" * 80)\n",
        "\n",
        "# 비율\n",
        "age20_survived_ratio = df.loc[condition2, \"Survived\"].value_counts(normalize = True)  ## 빈도수 비율로 변환\n",
        "print(f\"20대 중 사망자 / 생존자 수 : \\n{age20_survived_ratio}\")\n",
        "\n",
        "print(\"-\" * 80)\n",
        "\n",
        "## 30대의 생존 여부에 대한 통계 분석\n",
        "\n",
        "# 빈도수\n",
        "condition3 = df.loc[:, \"Age\"] == 3\n",
        "age30_survived_counts = df.loc[condition3, \"Survived\"].value_counts()\n",
        "print(f\"30대 중 사망자 / 생존자 수 : \\n{age30_survived_counts}\")\n",
        "\n",
        "print(\"-\" * 80)\n",
        "\n",
        "# 비율\n",
        "age30_survived_ratio = df.loc[condition3, \"Survived\"].value_counts(normalize = True)  ## 빈도수 비율로 변환\n",
        "print(f\"30대 중 사망자 / 생존자 수 : \\n{age30_survived_ratio}\")"
      ],
      "metadata": {
        "colab": {
          "base_uri": "https://localhost:8080/"
        },
        "id": "WeY5R9r9TeT0",
        "outputId": "6434a913-3fec-4e41-9091-fdfb2abf27ce"
      },
      "execution_count": null,
      "outputs": [
        {
          "output_type": "stream",
          "name": "stdout",
          "text": [
            "10대 중 사망자 / 생존자 수 : \n",
            "Survived\n",
            "0    96\n",
            "1    66\n",
            "Name: count, dtype: int64\n",
            "--------------------------------------------------------------------------------\n",
            "10대 중 사망자 / 생존자 수 : \n",
            "Survived\n",
            "0    0.592593\n",
            "1    0.407407\n",
            "Name: proportion, dtype: float64\n",
            "--------------------------------------------------------------------------------\n",
            "20대 중 사망자 / 생존자 수 : \n",
            "Survived\n",
            "0    418\n",
            "1    206\n",
            "Name: count, dtype: int64\n",
            "--------------------------------------------------------------------------------\n",
            "20대 중 사망자 / 생존자 수 : \n",
            "Survived\n",
            "0    0.669872\n",
            "1    0.330128\n",
            "Name: proportion, dtype: float64\n",
            "--------------------------------------------------------------------------------\n",
            "30대 중 사망자 / 생존자 수 : \n",
            "Survived\n",
            "0    121\n",
            "1     89\n",
            "Name: count, dtype: int64\n",
            "--------------------------------------------------------------------------------\n",
            "30대 중 사망자 / 생존자 수 : \n",
            "Survived\n",
            "0    0.57619\n",
            "1    0.42381\n",
            "Name: proportion, dtype: float64\n"
          ]
        }
      ]
    },
    {
      "cell_type": "markdown",
      "source": [
        "#### 성별과 연령의 관계 분석"
      ],
      "metadata": {
        "id": "37SD6QMuZ-eo"
      }
    },
    {
      "cell_type": "code",
      "source": [
        "### Gender 컬럼과 Age 컬럼의 관계 분석\n",
        "sns.countplot(data = df, x = \"Age\", hue = \"Gender\")   ## 연령대별로 남녀 비율을 분석\n",
        "plt.show()"
      ],
      "metadata": {
        "colab": {
          "base_uri": "https://localhost:8080/",
          "height": 449
        },
        "id": "8D3XdWOOaBcd",
        "outputId": "bd23a115-3478-41bb-91d7-a42f17843969"
      },
      "execution_count": null,
      "outputs": [
        {
          "output_type": "display_data",
          "data": {
            "text/plain": [
              "<Figure size 640x480 with 1 Axes>"
            ],
            "image/png": "[encoded data removed]"
          },
          "metadata": {}
        }
      ]
    },
    {
      "cell_type": "code",
      "source": [
        "### 20대의 성별에 대한 통계 분석 (가장 많이 죽은 나잇대)\n",
        "\n",
        "# 빈도수 분석\n",
        "condition1 = df.loc[:, \"Age\"] == 2   ## Age 나잇대가 20대를 만족하는 row 만 추출\n",
        "counts = df.loc[condition1, \"Gender\"].value_counts()\n",
        "print(f\"20대 중 남녀의 빈도수 : \\n{counts}\")\n",
        "\n",
        "print(\"-\" * 80)\n",
        "\n",
        "# 비율 분석\n",
        "ratio = df.loc[condition1, \"Gender\"].value_counts(normalize = True)\n",
        "print(f\"20대 중 남녀의 비율 : \\n{ratio}\")\n",
        "\n",
        "## 결과 분석 : 20대 남성이 집중적으로 많이 죽었다.\n"
      ],
      "metadata": {
        "colab": {
          "base_uri": "https://localhost:8080/"
        },
        "id": "7mmzX9uyaZls",
        "outputId": "95959233-ee84-4011-9c6c-447d037ad4d9"
      },
      "execution_count": null,
      "outputs": [
        {
          "output_type": "stream",
          "name": "stdout",
          "text": [
            "20대 중 남녀의 빈도수 : \n",
            "Gender\n",
            "male      420\n",
            "female    204\n",
            "Name: count, dtype: int64\n",
            "--------------------------------------------------------------------------------\n",
            "20대 중 남녀의 비율 : \n",
            "Gender\n",
            "male      0.673077\n",
            "female    0.326923\n",
            "Name: proportion, dtype: float64\n"
          ]
        }
      ]
    },
    {
      "cell_type": "code",
      "source": [
        "### 30대의 성별에 대한 통계 분석 (가장 많이 죽은 나잇대)\n",
        "\n",
        "# 빈도수 분석\n",
        "condition2 = df.loc[:, \"Age\"] == 3\n",
        "counts = df.loc[condition2, \"Gender\"].value_counts()\n",
        "print(f\"30대 중 남녀의 빈도수 : \\n{counts}\")\n",
        "\n",
        "print(\"-\" * 80)\n",
        "\n",
        "# 비율 분석\n",
        "ratio = df.loc[condition2, \"Gender\"].value_counts(normalize = True)\n",
        "print(f\"30대 중 남녀의 비율 : \\n{ratio}\")\n",
        "\n",
        "## 결과 : 20대보다 30대가 상대적으로 사망률이 더 낮고 생존률이 더 상대적으로 높다.\n",
        "## 그 이유 중에 하나는 인구 빈도 상 남성이 더 많고 여성이 적다."
      ],
      "metadata": {
        "colab": {
          "base_uri": "https://localhost:8080/"
        },
        "id": "0EcqGBxveQ5U",
        "outputId": "7dfd2943-03d2-4dc1-dc2e-4fbcbd43454a"
      },
      "execution_count": null,
      "outputs": [
        {
          "output_type": "stream",
          "name": "stdout",
          "text": [
            "30대 중 남녀의 빈도수 : \n",
            "Gender\n",
            "male      135\n",
            "female     75\n",
            "Name: count, dtype: int64\n",
            "--------------------------------------------------------------------------------\n",
            "30대 중 남녀의 비율 : \n",
            "Gender\n",
            "male      0.642857\n",
            "female    0.357143\n",
            "Name: proportion, dtype: float64\n"
          ]
        }
      ]
    },
    {
      "cell_type": "code",
      "source": [
        "### 10대의 성별에 대한 통계 분석\n",
        "\n",
        "# 빈도수 분석\n",
        "condition3 = df.loc[:, \"Age\"] == 1\n",
        "counts = df.loc[condition3, \"Gender\"].value_counts()\n",
        "print(f\"10대 중 남녀의 빈도수 : \\n{counts}\")\n",
        "\n",
        "print(\"-\" * 80)\n",
        "\n",
        "# 비율 분석\n",
        "ratio = df.loc[condition3, \"Survived\"].value_counts(normalize = True)\n",
        "print(f\"10대 중 남녀의 비율: \\n{ratio}\")\n",
        "\n",
        "\n",
        "### 결과 : 10대에 있어서는 남자와 여자의 셩별 외로 다른 요인이 사망률에 작용했다. 10대는 30대에 비해서 남성의 비율이 더 낮고 여성의 비율이 더 높지만,\n",
        "## 사망률이 더 높았다.\n",
        "## 성별로 해석이 안되고 다른 요인이 있다.\n"
      ],
      "metadata": {
        "colab": {
          "base_uri": "https://localhost:8080/"
        },
        "id": "EcfwTXPEfEaZ",
        "outputId": "6b67586f-95d9-4ac4-e337-db5f3eafe9e6"
      },
      "execution_count": null,
      "outputs": [
        {
          "output_type": "stream",
          "name": "stdout",
          "text": [
            "10대 중 남녀의 빈도수 : \n",
            "Gender\n",
            "male      94\n",
            "female    68\n",
            "Name: count, dtype: int64\n",
            "--------------------------------------------------------------------------------\n",
            "10대 중 남녀의 비율: \n",
            "Survived\n",
            "0    0.592593\n",
            "1    0.407407\n",
            "Name: proportion, dtype: float64\n"
          ]
        }
      ]
    },
    {
      "cell_type": "code",
      "source": [
        "### 20대 남성의 생존 여부 통계 분석\n",
        "\n",
        "# 빈도수 분석\n",
        "condition = (df.loc[:, \"Age\"] == 2) & (df.loc[:, \"Gender\"] == \"male\")   ## 20대이자 남성이여야 되는 두가지 조건을 동시에 만족\n",
        "counts = df.loc[condition, \"Survived\"].value_counts()\n",
        "print(f\"20대 남성의 사망자 / 생존자 수 : \\n{counts}\")\n",
        "\n",
        "## 결과 : 381명이 사망, 39명이 생존. 남성 대략 420 명중에서 381명이 사망.\n",
        "\n",
        "print(\"-\" * 80)\n",
        "\n",
        "# 비율 분석\n",
        "ratio = df.loc[condition, \"Survived\"].value_counts(normalize = True)\n",
        "print(f\"20대 남성의 사망자 / 생존자 비율 : \\n{ratio}\")\n",
        "\n",
        "## 결과: 비율로 바꾸면 20대 남성이 90.7%가 사망. => 압도적으로 높은 사망 비율"
      ],
      "metadata": {
        "colab": {
          "base_uri": "https://localhost:8080/"
        },
        "id": "lQvV2kp1bZ4o",
        "outputId": "15767a48-c316-4ca3-e935-3fbe4354ea24"
      },
      "execution_count": null,
      "outputs": [
        {
          "output_type": "stream",
          "name": "stdout",
          "text": [
            "20대 남성의 사망자 / 생존자 수 : \n",
            "Survived\n",
            "0    381\n",
            "1     39\n",
            "Name: count, dtype: int64\n",
            "--------------------------------------------------------------------------------\n",
            "20대 남성의 사망자 / 생존자 비율 : \n",
            "Survived\n",
            "0    0.907143\n",
            "1    0.092857\n",
            "Name: proportion, dtype: float64\n"
          ]
        }
      ]
    },
    {
      "cell_type": "code",
      "source": [
        "### 20대 여성의 생존 여부 통계 분석\n",
        "\n",
        "# 빈도수 분석\n",
        "condition = (df.loc[:, \"Age\"] == 2) & (df.loc[:, \"Gender\"] == \"female\")   ## 20대이자 여성이여야 되는 두가지 조건을 동시에 만족\n",
        "counts = df.loc[condition, \"Survived\"].value_counts()\n",
        "print(f\"20대 여성의 사망자 / 생존자 수 : \\n{counts}\")\n",
        "\n",
        "print(\"-\" * 80)\n",
        "\n",
        "# 비율 분석\n",
        "ratio = df.loc[condition, \"Survived\"].value_counts(normalize = True)\n",
        "print(f\"20대 여성의 사망자 / 생존자 비율 : \\n{ratio}\")\n",
        "\n",
        "## 결과 : 같은 여성이래도 20대 여성은 사망 비율이 더 올라갔음 전체적인 데이터로 따졌을때.\n",
        "## => 20대는 남녀 전체적으로 다른 나잇대 남녀보다 더 사망 비율이 높음\n"
      ],
      "metadata": {
        "colab": {
          "base_uri": "https://localhost:8080/"
        },
        "id": "eUQoLzmncP5T",
        "outputId": "c540b14d-88aa-4e42-ce62-d9f8e85cd804"
      },
      "execution_count": null,
      "outputs": [
        {
          "output_type": "stream",
          "name": "stdout",
          "text": [
            "20대 여성의 사망자 / 생존자 수 : \n",
            "Survived\n",
            "1    167\n",
            "0     37\n",
            "Name: count, dtype: int64\n",
            "--------------------------------------------------------------------------------\n",
            "20대 여성의 사망자 / 생존자 비율 : \n",
            "Survived\n",
            "1    0.818627\n",
            "0    0.181373\n",
            "Name: proportion, dtype: float64\n"
          ]
        }
      ]
    },
    {
      "cell_type": "markdown",
      "source": [
        "#### 생존 여부와 요금의 관계 분석"
      ],
      "metadata": {
        "id": "IqWuTqWBgwKv"
      }
    },
    {
      "cell_type": "code",
      "source": [
        "### Fare 컬럼의 요금 분포 시각화\n",
        "sns.histplot(data = df, x = \"Fare\", hue = \"Survived\")\n",
        "plt.show()\n",
        "\n",
        "\n",
        "## 결과 : 이렇게만 보면 생존 분포도가 Fare에 양방향으로 비슷하게 되어있기 때문에 이 그래프로는 결론을 도출하기 힘듬\n"
      ],
      "metadata": {
        "colab": {
          "base_uri": "https://localhost:8080/",
          "height": 449
        },
        "id": "CO3kv8PEgxZB",
        "outputId": "eb0c86d5-c18f-4e5c-dde9-0aa8d6892643"
      },
      "execution_count": null,
      "outputs": [
        {
          "output_type": "display_data",
          "data": {
            "text/plain": [
              "<Figure size 640x480 with 1 Axes>"
            ],
            "image/png": "[encoded data removed]"
          },
          "metadata": {}
        }
      ]
    },
    {
      "cell_type": "markdown",
      "source": [
        "##### Pclass 컬럼과 Fare 컬럼의 관계 분석"
      ],
      "metadata": {
        "id": "5kKw2CaFiU6U"
      }
    },
    {
      "cell_type": "code",
      "source": [
        "### 상관관계 분석\n",
        "## 컬럼들간의 상관관계를 분석\n",
        "## 순서로 되어있는 어떤 범주 (순서가 상관있는 경우) -> spearman correlation으로 분석 (디폴트는 perason)\n",
        "corr_matrix = df.loc[:, [\"Pclass\", \"Age\", \"SibSp\", \"Parch\", \"Fare\", \"num_family\"]].corr(method = \"spearman\")\n",
        "print(corr_matrix)\n",
        "\n",
        "## 결과 : 요금 (Fare(과 가장 관련성이 높은게 Pclass, num_family도 관련이 높다\n",
        "### 음수의 상관관계는 변화의 방향성이다. 하나의 변수가 증가하면 다른 변수도 증가하는지\n"
      ],
      "metadata": {
        "colab": {
          "base_uri": "https://localhost:8080/"
        },
        "id": "L8fmgTJMJ3cT",
        "outputId": "8b99c653-25ae-4d82-918e-2082e69759d2"
      },
      "execution_count": null,
      "outputs": [
        {
          "output_type": "stream",
          "name": "stdout",
          "text": [
            "              Pclass       Age     SibSp     Parch      Fare  num_family\n",
            "Pclass      1.000000 -0.358715 -0.066679 -0.028752 -0.709079   -0.089363\n",
            "Age        -0.358715  1.000000 -0.109873 -0.183359  0.173916   -0.137568\n",
            "SibSp      -0.066679 -0.109873  1.000000  0.438373  0.445877    0.848278\n",
            "Parch      -0.028752 -0.183359  0.438373  1.000000  0.400516    0.795863\n",
            "Fare       -0.709079  0.173916  0.445877  0.400516  1.000000    0.521539\n",
            "num_family -0.089363 -0.137568  0.848278  0.795863  0.521539    1.000000\n"
          ]
        }
      ]
    },
    {
      "cell_type": "code",
      "source": [
        "# 좌석 등급이 높아질수록 요금이 비싸질 것 같으니 관계 분석\n",
        "\n",
        "### 시각화 --> scatterplot 분석\n",
        "sns.scatterplot(data = df, x = \"Pclass\", y = \"Fare\", hue = \"Survived\")\n",
        "plt.show()\n",
        "\n",
        "## 결과 : 2등석과 3등석의 요금은 큰 차이가 안남. (최댓값으로 봐도) -> 반면에 1등급은 낮은 가격부터 높은 가격까지 골구로 분포"
      ],
      "metadata": {
        "colab": {
          "base_uri": "https://localhost:8080/",
          "height": 449
        },
        "id": "8KDQsv--iZd1",
        "outputId": "71e1b9c1-ca5d-43c7-baa6-1a915cc9b055"
      },
      "execution_count": null,
      "outputs": [
        {
          "output_type": "display_data",
          "data": {
            "text/plain": [
              "<Figure size 640x480 with 1 Axes>"
            ],
            "image/png": "[encoded data removed]"
          },
          "metadata": {}
        }
      ]
    },
    {
      "cell_type": "code",
      "source": [
        "### 2등석, 3등석 요금의 최대값 추출 (둘이 크게 차이가 안남)\n",
        "\n",
        "# 2등석 요금의 최대값 추출\n",
        "condition1 = df.loc[:, \"Pclass\"] == 2   ## 2등석만 만족하는 row True\n",
        "pclass2_fare_max = df.loc[condition1, \"Fare\"].max()        ## 그 중에 최대값이 어떤지 (해당 콜롬의 최대값 (Series에 대한 max() 함수))\n",
        "print(f\"2등석 요금의 최대값 : \\n{pclass2_fare_max}\")\n",
        "\n",
        "print(\"-\" * 80)\n",
        "\n",
        "# 3등석 요금의 최대값 추출\n",
        "condition2 = df.loc[:, \"Pclass\"] == 3   ## 3등석만 만족하는 row True\n",
        "pclass3_fare_max = df.loc[condition2, \"Fare\"].max()        ## 그 중에 최대값이 어떤지 (해당 콜롬의 최대값 (Series에 대한 max() 함수))\n",
        "print(f\"3등석 요금의 최대값 : \\n{pclass3_fare_max}\")\n"
      ],
      "metadata": {
        "colab": {
          "base_uri": "https://localhost:8080/"
        },
        "id": "B0Ejze7uLm2r",
        "outputId": "3ab5c9a0-0928-4884-986d-c849f414521b"
      },
      "execution_count": null,
      "outputs": [
        {
          "output_type": "stream",
          "name": "stdout",
          "text": [
            "2등석 요금의 최대값 : \n",
            "73.5\n",
            "--------------------------------------------------------------------------------\n",
            "3등석 요금의 최대값 : \n",
            "69.55\n"
          ]
        }
      ]
    },
    {
      "cell_type": "code",
      "source": [
        "### 요금이 73.5 달러 (2등석 최대요금) 보다 큰 승객 --> 사망자 / 생존자 통계 분석\n",
        "\n",
        "# 빈도수 분석\n",
        "condition = df.loc[:, \"Fare\"] > pclass2_fare_max    # (요금이 73.5 달러보다 큰 행만 추출)\n",
        "counts = df.loc[condition, \"Survived\"].value_counts()  # 73.5 (기준금액) 보다 큰 금액을 지불한 사람들의 생존과 사망 빈도\n",
        "## value_counts()가 모든 행의 결과를 다 더함 저 조건에 만족하는걸\n",
        "print(f\"요금이 73.5 달러보다 큰 승객의 사망자 / 생존자 수 : \\n{counts}\")\n",
        "\n",
        "print(\"-\" * 80)\n",
        "\n",
        "# 비율 분석\n",
        "ratio = df.loc[condition, \"Survived\"].value_counts(normalize = True)\n",
        "print(f\"요금이 73.5 달러보다 큰 승객의 사망자 / 생존자 비율 : \\n{ratio}\")\n",
        "\n",
        "## 1등석 승객중에서도 73.5 달러보다 큰 금액을 지불한 승객의 생존률이 훨씬 그냥 1등석 전체의 생존 비율보다 높음\n"
      ],
      "metadata": {
        "colab": {
          "base_uri": "https://localhost:8080/"
        },
        "id": "vTcpj1APMGDK",
        "outputId": "aafa83d0-474e-4aa4-986f-af24f3c7c4df"
      },
      "execution_count": null,
      "outputs": [
        {
          "output_type": "stream",
          "name": "stdout",
          "text": [
            "요금이 73.5 달러보다 큰 승객의 사망자 / 생존자 수 : \n",
            "Survived\n",
            "1    101\n",
            "0     44\n",
            "Name: count, dtype: int64\n",
            "--------------------------------------------------------------------------------\n",
            "요금이 73.5 달러보다 큰 승객의 사망자 / 생존자 비율 : \n",
            "Survived\n",
            "1    0.696552\n",
            "0    0.303448\n",
            "Name: proportion, dtype: float64\n"
          ]
        }
      ]
    },
    {
      "cell_type": "code",
      "source": [
        "### 요금이 69.55 달러 (3등석 최대요금) 보다 큰 승객 --> 사망자 / 생존자 통계 분석\n",
        "\n",
        "# 빈도수 분석\n",
        "condition = df.loc[:, \"Fare\"] > pclass3_fare_max\n",
        "counts = df.loc[condition, \"Survived\"].value_counts()\n",
        "print(f\"요금이 69.55 달러보다 큰 승객의 사망자 / 생존자 수 : \\n{counts}\")\n",
        "\n",
        "print(\"-\" * 80)\n",
        "\n",
        "# 비율 분석\n",
        "ratio = df.loc[condition, \"Survived\"].value_counts(normalize = True)\n",
        "print(f\"요금이 69.55 달러보다 큰 승객의 사망자 / 생존자 비율 : \\n{ratio}\")\n",
        "\n",
        "## 1등석 승객중에서도 73.5 달러보다 큰 금액을 지불한 승객의 생존률이 훨씬 그냥 1등석 전체의 생존 비율보다 높음\n"
      ],
      "metadata": {
        "colab": {
          "base_uri": "https://localhost:8080/"
        },
        "id": "IePANkfeN3dh",
        "outputId": "6486772d-9ec8-42f7-f6dd-d05fb4860454"
      },
      "execution_count": null,
      "outputs": [
        {
          "output_type": "stream",
          "name": "stdout",
          "text": [
            "요금이 69.55 달러보다 큰 승객의 사망자 / 생존자 수 : \n",
            "Survived\n",
            "1    103\n",
            "0     53\n",
            "Name: count, dtype: int64\n",
            "--------------------------------------------------------------------------------\n",
            "요금이 69.55 달러보다 큰 승객의 사망자 / 생존자 비율 : \n",
            "Survived\n",
            "1    0.660256\n",
            "0    0.339744\n",
            "Name: proportion, dtype: float64\n"
          ]
        }
      ]
    },
    {
      "cell_type": "markdown",
      "source": [
        "#### 생존 여부와 가족 인원수의 관계 분석"
      ],
      "metadata": {
        "id": "97LoKGDCPxJc"
      }
    },
    {
      "cell_type": "code",
      "source": [
        "### 탑승객의 가족 인원수 컬럼 분포 통계 분석\n",
        "\n",
        "# 빈도수 분석\n",
        "counts = df.loc[:, \"num_family\"].value_counts()\n",
        "print(f\"탑승객의 가족 인원수 별 빈도수 : \\n{counts}\")\n",
        "\n",
        "## 혼자 탄 사람이 전체의 50%를 넘어감 (나머지는 다 합쳐도 50%도 안됨)\n",
        "\n",
        "print(\"-\" * 80)\n",
        "\n",
        "# 비율 분석\n",
        "ratio = df.loc[:, \"num_family\"].value_counts(normalize = True)\n",
        "print(f\"탑승객의 가족 인원수 별 빈도수 : \\n{ratio}\")\n",
        "\n",
        "## 혼자 탄 사람이 60%, 나머지가 40%\n"
      ],
      "metadata": {
        "colab": {
          "base_uri": "https://localhost:8080/"
        },
        "id": "B24DhJP1Pz_x",
        "outputId": "652fe2b4-9a33-4e86-e6b5-e669527a0c91"
      },
      "execution_count": null,
      "outputs": [
        {
          "output_type": "stream",
          "name": "stdout",
          "text": [
            "탑승객의 가족 인원수 별 빈도수 : \n",
            "num_family\n",
            "0     790\n",
            "1     235\n",
            "2     159\n",
            "3      43\n",
            "5      25\n",
            "4      22\n",
            "6      16\n",
            "10     11\n",
            "7       8\n",
            "Name: count, dtype: int64\n",
            "--------------------------------------------------------------------------------\n",
            "탑승객의 가족 인원수 별 빈도수 : \n",
            "num_family\n",
            "0     0.603514\n",
            "1     0.179526\n",
            "2     0.121467\n",
            "3     0.032850\n",
            "5     0.019099\n",
            "4     0.016807\n",
            "6     0.012223\n",
            "10    0.008403\n",
            "7     0.006112\n",
            "Name: proportion, dtype: float64\n"
          ]
        }
      ]
    },
    {
      "cell_type": "code",
      "source": [
        "### 탑승객의 가족 인원수 컬럼 분포 시각화\n",
        "sns.countplot(data = df, x = \"num_family\", palette = \"Set2\")    ## 빈도수는 막대 그래프로 시각화 하면 보기 편함\n",
        "plt.show()\n"
      ],
      "metadata": {
        "colab": {
          "base_uri": "https://localhost:8080/",
          "height": 450
        },
        "id": "hxD7aHetQ4WD",
        "outputId": "89c7c402-4d8d-4df9-9994-4c397ffc5800"
      },
      "execution_count": null,
      "outputs": [
        {
          "output_type": "display_data",
          "data": {
            "text/plain": [
              "<Figure size 640x480 with 1 Axes>"
            ],
            "image/png": "[encoded data removed]"
          },
          "metadata": {}
        }
      ]
    },
    {
      "cell_type": "code",
      "source": [
        "### Survived 컬럼과 num_family 컬럼의 관계 시각화  (0부터 10명까지 구간화)\n",
        "sns.countplot(data = df, x = \"num_family\", hue = \"Survived\")   ## 생존여부별로 쪼갠다\n",
        "plt.show()\n",
        "\n",
        "## 동반간 가족인원이 1명, 2명, 3명까지는 생존률이 사망률보다 높았지만, 4명 이상부터는 급격하게 줄어든다 (사망률 > 생존률)"
      ],
      "metadata": {
        "colab": {
          "base_uri": "https://localhost:8080/",
          "height": 450
        },
        "id": "8UjLphPGRCOG",
        "outputId": "d416e654-0a4d-47d3-eec4-23b85091c395"
      },
      "execution_count": null,
      "outputs": [
        {
          "output_type": "display_data",
          "data": {
            "text/plain": [
              "<Figure size 640x480 with 1 Axes>"
            ],
            "image/png": "[encoded data removed]"
          },
          "metadata": {}
        }
      ]
    },
    {
      "cell_type": "code",
      "source": [
        "### 생존 여부와 가족 인원수 분포 통계 분석\n",
        "\n",
        "# 대상 : 가족 인원수 = 0 --> 사망자 / 생존자 비율\n",
        "condition1 = (df.loc[:, \"num_family\"] == 0)\n",
        "num0_ratio = df.loc[condition1, \"Survived\"].value_counts(normalize = True)    ## 가족 인원수가 0명인 행만 뽑아서 생존/사망 비율 분석\n",
        "print(f\"동반 가족 인원수가 0인 경우 사망자 / 생존자 비율 : \\n{num0_ratio}\")\n",
        "\n",
        "## 결과는 70 (사망) : 30 (생존) => 2배 넘게 차이남 : 혼자 탄 사람은 많이 죽었다 (인원수로 봐도 그렇고 비율로 봐도 그렇다)\n",
        "\n",
        "print(\"-\" * 80)\n",
        "\n",
        "# 대상 : 가족 인원수 = 1 --> 사망자 / 생존자 비율\n",
        "condition2 = (df.loc[:, \"num_family\"] == 1)\n",
        "num1_ratio = df.loc[condition2, \"Survived\"].value_counts(normalize = True)\n",
        "print(f\"동반 가족 인원수가 1인 경우 사망자 / 생존자 비율 : \\n{num1_ratio}\")\n",
        "\n",
        "## 결과는 53 (생존) : 47 (사망) => 생존률이 더 높았음  : 혼자 탄 사람보다는 생존률이 더 올라갔음\n",
        "\n",
        "print(\"-\" * 80)\n",
        "\n",
        "# 대상 : 가족 인원수 = 2 --> 사망자 / 생존자 비율\n",
        "condition3 = (df.loc[:, \"num_family\"] == 2)\n",
        "num2_ratio = df.loc[condition3, \"Survived\"].value_counts(normalize = True)\n",
        "print(f\"동반 가족 인원수가 2인 경우 사망자 / 생존자 비율 : \\n{num2_ratio}\")\n",
        "\n",
        "## 결과가 더 올라갔음: 56 (생존) : 44 (사망) => 생존률이 좀 더 올라갔음\n",
        "\n",
        "print(\"-\" * 80)\n",
        "\n",
        "# 대상 : 가족 인원수 = 3 --> 사망자 / 생존자 비율\n",
        "condition4 = (df.loc[:, \"num_family\"] == 3)\n",
        "num3_ratio = df.loc[condition4, \"Survived\"].value_counts(normalize = True)\n",
        "print(f\"동반 가족 인원수가 3인 경우 사망자 / 생존자 비율 : \\n{num3_ratio}\")\n",
        "\n",
        "\n",
        "## 결과가 훨씬 더 올라갔음 : 72 (생존) : 27 (사망) => 생존률이 훨씬 올라감\n",
        "\n",
        "print(\"-\" * 80)\n",
        "\n",
        "# 대상 : 가족 인원수 = 4 --> 사망자 / 생존자 비율\n",
        "condition5 = (df.loc[:, \"num_family\"] == 4)\n",
        "num4_ratio = df.loc[condition5, \"Survived\"].value_counts(normalize = True)\n",
        "print(f\"동반 가족 인원수가 4인 경우 사망자 / 생존자 비율 : \\n{num4_ratio}\")\n",
        "\n",
        "## 결과가 갑자기 훨씬 내려갔음 : 77 (사망) : 23 (사망) ==> 생존률이 72에서 23으로 떨어짐\n",
        "### 추정 되는 이유로는 일가족을 다 이끌고 같이 살기는 쉽지 않았을것이다\n",
        "\n"
      ],
      "metadata": {
        "colab": {
          "base_uri": "https://localhost:8080/"
        },
        "id": "jCc92d19RrkJ",
        "outputId": "3594dae4-ab42-473e-959e-3d3090762445"
      },
      "execution_count": null,
      "outputs": [
        {
          "output_type": "stream",
          "name": "stdout",
          "text": [
            "동반 가족 인원수가 0인 경우 사망자 / 생존자 비율 : \n",
            "Survived\n",
            "0    0.707595\n",
            "1    0.292405\n",
            "Name: proportion, dtype: float64\n",
            "--------------------------------------------------------------------------------\n",
            "동반 가족 인원수가 1인 경우 사망자 / 생존자 비율 : \n",
            "Survived\n",
            "1    0.531915\n",
            "0    0.468085\n",
            "Name: proportion, dtype: float64\n",
            "--------------------------------------------------------------------------------\n",
            "동반 가족 인원수가 2인 경우 사망자 / 생존자 비율 : \n",
            "Survived\n",
            "1    0.559748\n",
            "0    0.440252\n",
            "Name: proportion, dtype: float64\n",
            "--------------------------------------------------------------------------------\n",
            "동반 가족 인원수가 3인 경우 사망자 / 생존자 비율 : \n",
            "Survived\n",
            "1    0.72093\n",
            "0    0.27907\n",
            "Name: proportion, dtype: float64\n",
            "--------------------------------------------------------------------------------\n",
            "동반 가족 인원수가 4인 경우 사망자 / 생존자 비율 : \n",
            "Survived\n",
            "0    0.772727\n",
            "1    0.227273\n",
            "Name: proportion, dtype: float64\n"
          ]
        }
      ]
    },
    {
      "cell_type": "markdown",
      "source": [
        "#### 생존 여부와 호칭의 관계 분석"
      ],
      "metadata": {
        "id": "x1ttbMjOXoG4"
      }
    },
    {
      "cell_type": "code",
      "source": [
        "#### 호칭의 분포 통계 분석\n",
        "\n",
        "# 빈도수 분석\n",
        "counts = df.loc[:, \"title\"].value_counts()   ## 호칭의 항목별 빈도수를 구함 (성별을 반영하고 있음 )\n",
        "print(f\"호칭의 항목별 빈도수 : \\n{counts}\")\n",
        "\n",
        "print(\"-\" * 80)\n",
        "\n",
        "# 비율 분석\n",
        "ratio = df.loc[:, \"title\"].value_counts(normalize = True)\n",
        "print(f\"호칭의 항목별 빈도수 : \\n{ratio}\")"
      ],
      "metadata": {
        "colab": {
          "base_uri": "https://localhost:8080/"
        },
        "id": "sIsM3iGRXpVn",
        "outputId": "ea30f781-0339-427e-91f4-17a25f6558d3"
      },
      "execution_count": null,
      "outputs": [
        {
          "output_type": "stream",
          "name": "stdout",
          "text": [
            "호칭의 항목별 빈도수 : \n",
            "title\n",
            "Mr        757\n",
            "Miss      260\n",
            "Mrs       197\n",
            "Master     61\n",
            "other      34\n",
            "Name: count, dtype: int64\n",
            "--------------------------------------------------------------------------------\n",
            "호칭의 항목별 빈도수 : \n",
            "title\n",
            "Mr        0.578304\n",
            "Miss      0.198625\n",
            "Mrs       0.150497\n",
            "Master    0.046600\n",
            "other     0.025974\n",
            "Name: proportion, dtype: float64\n"
          ]
        }
      ]
    },
    {
      "cell_type": "code",
      "source": [
        "### 호칭의 분포 시각화\n",
        "## 항목별 빈도수니깐 -> countplot (막대 그래프)\n",
        "sns.countplot(data = df, x = \"title\", palette = \"muted\")\n",
        "plt.show()"
      ],
      "metadata": {
        "colab": {
          "base_uri": "https://localhost:8080/",
          "height": 449
        },
        "id": "MFZji2L_YB-m",
        "outputId": "71a35126-392e-4605-8258-3d74fa8152f6"
      },
      "execution_count": null,
      "outputs": [
        {
          "output_type": "display_data",
          "data": {
            "text/plain": [
              "<Figure size 640x480 with 1 Axes>"
            ],
            "image/png": "[encoded data removed]"
          },
          "metadata": {}
        }
      ]
    },
    {
      "cell_type": "code",
      "source": [
        "### Survived 컬럼과 title 컬럼의 관계 분석\n",
        "sns.countplot(data = df, x = \"title\", hue = \"Survived\")  ## 성별별로 생존/사망률 분석\n",
        "plt.show()"
      ],
      "metadata": {
        "colab": {
          "base_uri": "https://localhost:8080/",
          "height": 450
        },
        "id": "lz03YGEGY6Dd",
        "outputId": "19b68cfe-f928-415d-bc8d-602940697e61"
      },
      "execution_count": null,
      "outputs": [
        {
          "output_type": "display_data",
          "data": {
            "text/plain": [
              "<Figure size 640x480 with 1 Axes>"
            ],
            "image/png": "[encoded data removed]"
          },
          "metadata": {}
        }
      ]
    },
    {
      "cell_type": "code",
      "source": [
        "### 호칭별 생존 여부 통계 분석\n",
        "\n",
        "# 대상 : Mr --> 사망자 / 생존자 비율\n",
        "condition1 = (df.loc[:, \"title\"] == \"Mr\")     ## 호칭을 Mr.로 가지고 있는 사람들만 뽑음\n",
        "mr_ratio = df.loc[condition1, \"Survived\"].value_counts(normalize = True)\n",
        "print(f\"Mr 중 사망자 / 생존자 비율 : \\n{mr_ratio}\")\n",
        "\n",
        "## 결과: Mr.의 사망률은 남성의 평균 사망률인 87.1%보다 높은 89.3% (Mr.호칭을 가지고 있는 다른 호칭을 가진 남성들보다 더 많이 죽었다)\n",
        "\n",
        "print(\"-\" * 80)\n",
        "\n",
        "# 대상 : Mrs --> 사망자 / 생존자 비율\n",
        "condition2 = (df.loc[:, \"title\"] == \"Mrs\")\n",
        "mrs_ratio = df.loc[condition2, \"Survived\"].value_counts(normalize = True)\n",
        "print(f\"Mrs 중 사망자 / 생존자 비율 : \\n{mrs_ratio}\")\n",
        "\n",
        "## 결과 : Mrs.의 생존률은 86%. 일반 여성의 생존률은 82% 정도. Mrs. 호칭을 가진 여성들이 생존률이 더 높았다.\n",
        "\n",
        "print(\"-\" * 80)\n",
        "\n",
        "# 대상 : Miss -> 사망자 / 생존자 비율\n",
        "condition3 = (df.loc[:, \"title\"] == \"Miss\")\n",
        "miss_ratio = df.loc[condition3, \"Survived\"].value_counts(normalize = True)\n",
        "print(f\"Miss 중 사망자 / 생존자 비율 : \\n{miss_ratio}\")\n",
        "\n",
        "## 결과 : 여성 평균 생존률보다 4% 정도 떨어졌다.\n",
        "\n",
        "print(\"-\" * 80)\n",
        "\n",
        "# 대상 : Master --> 사망자 / 생존자 비율\n",
        "condition4 = (df.loc[:, \"title\"] == \"Master\")\n",
        "master_ratio = df.loc[condition4, \"Survived\"].value_counts(normalize = True)\n",
        "print(f\"Master 중 사망자 / 생존자 비율 : \\n{master_ratio}\")\n",
        "\n",
        "## 결과 : 남성 평균 사망률인 87% 보다 62.2%로 훨씬 낮아졌다.\n"
      ],
      "metadata": {
        "colab": {
          "base_uri": "https://localhost:8080/"
        },
        "id": "hrBHAOftZ0W4",
        "outputId": "6ca7e7de-0138-41b0-fe6b-c7c85f354957"
      },
      "execution_count": null,
      "outputs": [
        {
          "output_type": "stream",
          "name": "stdout",
          "text": [
            "Mr 중 사망자 / 생존자 비율 : \n",
            "Survived\n",
            "0    0.892999\n",
            "1    0.107001\n",
            "Name: proportion, dtype: float64\n",
            "--------------------------------------------------------------------------------\n",
            "Mrs 중 사망자 / 생존자 비율 : \n",
            "Survived\n",
            "1    0.86802\n",
            "0    0.13198\n",
            "Name: proportion, dtype: float64\n",
            "--------------------------------------------------------------------------------\n",
            "Miss 중 사망자 / 생존자 비율 : \n",
            "Survived\n",
            "1    0.788462\n",
            "0    0.211538\n",
            "Name: proportion, dtype: float64\n",
            "--------------------------------------------------------------------------------\n",
            "Master 중 사망자 / 생존자 비율 : \n",
            "Survived\n",
            "0    0.622951\n",
            "1    0.377049\n",
            "Name: proportion, dtype: float64\n"
          ]
        }
      ]
    },
    {
      "cell_type": "markdown",
      "source": [
        "##### 연령과 호칭의 관계 분석"
      ],
      "metadata": {
        "id": "PaFr2j_NcPOQ"
      }
    },
    {
      "cell_type": "code",
      "source": [
        "### Age 컬럼과 title 컬럼의 관계 분석\n",
        "sns.countplot(data = df, x = \"title\", hue = \"Age\", palette = \"colorblind\")\n",
        "plt.show()\n",
        "\n",
        "## 결과 : Mr.에는 20대가 압도적으로 많다 -> 30대 -> 10대 / Master에는 10대 이하가 다 포함되어 있다 (어리니깐 보호 받아서 살았을 가능성이 크다)\n",
        "# 연령의 구성별로 차이가 있다."
      ],
      "metadata": {
        "colab": {
          "base_uri": "https://localhost:8080/",
          "height": 449
        },
        "id": "qYWSSM8Ra2Jj",
        "outputId": "735e9161-0541-4473-9981-d5edf8a31f71"
      },
      "execution_count": null,
      "outputs": [
        {
          "output_type": "display_data",
          "data": {
            "text/plain": [
              "<Figure size 640x480 with 1 Axes>"
            ],
            "image/png": "[encoded data removed]"
          },
          "metadata": {}
        }
      ]
    },
    {
      "cell_type": "markdown",
      "source": [
        "##### 승객의 등급과 호칭의 관계 분석"
      ],
      "metadata": {
        "id": "9u36dljddwGx"
      }
    },
    {
      "cell_type": "code",
      "source": [
        "### Pclass 컬럼과 title 컬럼의 관계 분석\n",
        "sns.countplot(data = df, x = \"title\", hue = \"Pclass\", palette = \"colorblind\")\n",
        "plt.show()\n",
        "\n",
        "## Mr이 3등석이 압도적으로 훨씬 많다 / Master는 3등석이 더 많았어서 / Miss보단 Mrs가 1등석이 더 많아서 생존률이 더 평균적으로 높았다"
      ],
      "metadata": {
        "colab": {
          "base_uri": "https://localhost:8080/",
          "height": 449
        },
        "id": "dWHAD48NcvCJ",
        "outputId": "4a85f0ab-c256-4b40-cf9d-4ef0b16e4fb0"
      },
      "execution_count": null,
      "outputs": [
        {
          "output_type": "display_data",
          "data": {
            "text/plain": [
              "<Figure size 640x480 with 1 Axes>"
            ],
            "image/png": "[encoded data removed]"
          },
          "metadata": {}
        }
      ]
    }
  ]
}
